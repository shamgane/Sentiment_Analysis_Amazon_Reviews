{
  "nbformat": 4,
  "nbformat_minor": 0,
  "metadata": {
    "colab": {
      "name": "CEN19012_A4_NLP.ipynb",
      "provenance": [],
      "collapsed_sections": [
        "xuDsW57hXYae",
        "pq7rBAmOXTCB",
        "UT-3Ko5_XKAm",
        "SsUZbnFVWqcw",
        "5o72tfeEW8mX",
        "OHPvWk7RaBU0"
      ],
      "toc_visible": true
    },
    "kernelspec": {
      "name": "python3",
      "display_name": "Python 3"
    }
  },
  "cells": [
    {
      "cell_type": "code",
      "metadata": {
        "id": "4IWjITSeCiDT",
        "outputId": "61574027-a881-4b32-8085-a3d2968e0c56",
        "colab": {
          "base_uri": "https://localhost:8080/",
          "height": 34
        }
      },
      "source": [
        "from google.colab import drive\n",
        "drive.mount('/content/drive')"
      ],
      "execution_count": 38,
      "outputs": [
        {
          "output_type": "stream",
          "text": [
            "Drive already mounted at /content/drive; to attempt to forcibly remount, call drive.mount(\"/content/drive\", force_remount=True).\n"
          ],
          "name": "stdout"
        }
      ]
    },
    {
      "cell_type": "code",
      "metadata": {
        "id": "xvPeIvRBVs9k",
        "outputId": "a2882240-ed5e-400f-db8b-6bbdad20c5a9",
        "colab": {
          "base_uri": "https://localhost:8080/",
          "height": 50
        }
      },
      "source": [
        "import numpy as np \n",
        "import pandas as pd \n",
        "import bz2\n",
        "import gc\n",
        "import re\n",
        "import os\n",
        "import csv\n",
        "import re\n",
        "import warnings\n",
        "warnings.filterwarnings(\"ignore\")\n",
        "import nltk\n",
        "nltk.download('punkt')\n",
        "from nltk.tokenize import sent_tokenize, word_tokenize\n",
        "from nltk.stem import PorterStemmer\n",
        "from nltk.stem import WordNetLemmatizer"
      ],
      "execution_count": 39,
      "outputs": [
        {
          "output_type": "stream",
          "text": [
            "[nltk_data] Downloading package punkt to /root/nltk_data...\n",
            "[nltk_data]   Package punkt is already up-to-date!\n"
          ],
          "name": "stdout"
        }
      ]
    },
    {
      "cell_type": "code",
      "metadata": {
        "id": "1VH1hee6eJO_"
      },
      "source": [
        "from sklearn.model_selection import train_test_split\n",
        "from sklearn.svm import SVC\n",
        "from sklearn.naive_bayes import GaussianNB\n",
        "from sklearn.tree import DecisionTreeClassifier\n",
        "from sklearn.ensemble import RandomForestClassifier\n",
        "from gensim.models import Word2Vec\n",
        "from gensim.models.doc2vec import Doc2Vec, TaggedDocument\n",
        "from gensim.models import KeyedVectors\n",
        "from sklearn.metrics import confusion_matrix, accuracy_score\n",
        "from sklearn.model_selection import cross_val_score\n",
        "from sklearn import preprocessing\n",
        "from keras.preprocessing.text import Tokenizer\n",
        "from keras.preprocessing.sequence import pad_sequences \n",
        "from keras.models import Sequential\n",
        "from keras.layers import Dense, Embedding, LSTM, SimpleRNN\n",
        "from keras.layers import Dense, Dropout, Activation\n",
        "from keras.layers import Conv1D, MaxPooling1D, Flatten\n",
        "from keras.utils.np_utils import to_categorical\n",
        "from keras.models import Model\n",
        "from keras.engine import Input"
      ],
      "execution_count": 40,
      "outputs": []
    },
    {
      "cell_type": "markdown",
      "metadata": {
        "id": "fdL8raQSrfJi"
      },
      "source": [
        "### Reading the data"
      ]
    },
    {
      "cell_type": "code",
      "metadata": {
        "id": "Uj7cvMuWrage"
      },
      "source": [
        "data = pd.read_csv('/content/drive/My Drive/sa_data.csv')"
      ],
      "execution_count": 41,
      "outputs": []
    },
    {
      "cell_type": "code",
      "metadata": {
        "id": "SBpVjtMOr006",
        "outputId": "243cd365-6b41-4271-8927-90160735748f",
        "colab": {
          "base_uri": "https://localhost:8080/",
          "height": 195
        }
      },
      "source": [
        "data.head()"
      ],
      "execution_count": 42,
      "outputs": [
        {
          "output_type": "execute_result",
          "data": {
            "text/html": [
              "<div>\n",
              "<style scoped>\n",
              "    .dataframe tbody tr th:only-of-type {\n",
              "        vertical-align: middle;\n",
              "    }\n",
              "\n",
              "    .dataframe tbody tr th {\n",
              "        vertical-align: top;\n",
              "    }\n",
              "\n",
              "    .dataframe thead th {\n",
              "        text-align: right;\n",
              "    }\n",
              "</style>\n",
              "<table border=\"1\" class=\"dataframe\">\n",
              "  <thead>\n",
              "    <tr style=\"text-align: right;\">\n",
              "      <th></th>\n",
              "      <th>text</th>\n",
              "      <th>sentiment</th>\n",
              "    </tr>\n",
              "  </thead>\n",
              "  <tbody>\n",
              "    <tr>\n",
              "      <th>0</th>\n",
              "      <td>RT @NancyLeeGrahn: How did everyone feel about...</td>\n",
              "      <td>Neutral</td>\n",
              "    </tr>\n",
              "    <tr>\n",
              "      <th>1</th>\n",
              "      <td>RT @ScottWalker: Didn't catch the full #GOPdeb...</td>\n",
              "      <td>Positive</td>\n",
              "    </tr>\n",
              "    <tr>\n",
              "      <th>2</th>\n",
              "      <td>RT @TJMShow: No mention of Tamir Rice and the ...</td>\n",
              "      <td>Neutral</td>\n",
              "    </tr>\n",
              "    <tr>\n",
              "      <th>3</th>\n",
              "      <td>RT @RobGeorge: That Carly Fiorina is trending ...</td>\n",
              "      <td>Positive</td>\n",
              "    </tr>\n",
              "    <tr>\n",
              "      <th>4</th>\n",
              "      <td>RT @DanScavino: #GOPDebate w/ @realDonaldTrump...</td>\n",
              "      <td>Positive</td>\n",
              "    </tr>\n",
              "  </tbody>\n",
              "</table>\n",
              "</div>"
            ],
            "text/plain": [
              "                                                text sentiment\n",
              "0  RT @NancyLeeGrahn: How did everyone feel about...   Neutral\n",
              "1  RT @ScottWalker: Didn't catch the full #GOPdeb...  Positive\n",
              "2  RT @TJMShow: No mention of Tamir Rice and the ...   Neutral\n",
              "3  RT @RobGeorge: That Carly Fiorina is trending ...  Positive\n",
              "4  RT @DanScavino: #GOPDebate w/ @realDonaldTrump...  Positive"
            ]
          },
          "metadata": {
            "tags": []
          },
          "execution_count": 42
        }
      ]
    },
    {
      "cell_type": "markdown",
      "metadata": {
        "id": "_uJSWNEVriGn"
      },
      "source": [
        "### Cleaning the data"
      ]
    },
    {
      "cell_type": "code",
      "metadata": {
        "id": "23FluN4-r4q0",
        "outputId": "b9b2f8c5-1bf4-44b4-a2e9-f673c3731878",
        "colab": {
          "base_uri": "https://localhost:8080/",
          "height": 50
        }
      },
      "source": [
        "import nltk\n",
        "from nltk.corpus import stopwords\n",
        "nltk.download('stopwords')\n",
        "#Preprocessing - removing unwanted characters, tokenization, stop-word removal\n",
        "def clean_data(tweet):\n",
        "    x = re.sub(\"[^a-zA-Z0-9]\", \" \",tweet) \n",
        "    x = x.lower().split()                             \n",
        "    stops = set(stopwords.words(\"english\"))                  \n",
        "    words = [w for w in x if not w in stops] \n",
        "    return( \" \".join(words))"
      ],
      "execution_count": 43,
      "outputs": [
        {
          "output_type": "stream",
          "text": [
            "[nltk_data] Downloading package stopwords to /root/nltk_data...\n",
            "[nltk_data]   Package stopwords is already up-to-date!\n"
          ],
          "name": "stdout"
        }
      ]
    },
    {
      "cell_type": "code",
      "metadata": {
        "id": "9kyoEfLWr8ag",
        "outputId": "fbefafea-69a7-42a2-c115-c7a7fb2c5f3b",
        "colab": {
          "base_uri": "https://localhost:8080/",
          "height": 118
        }
      },
      "source": [
        "data['text'] = data['text'].apply(lambda x: clean_data(x))\n",
        "print(data.head())"
      ],
      "execution_count": 44,
      "outputs": [
        {
          "output_type": "stream",
          "text": [
            "                                                text sentiment\n",
            "0  rt nancyleegrahn everyone feel climate change ...   Neutral\n",
            "1  rt scottwalker catch full gopdebate last night...  Positive\n",
            "2  rt tjmshow mention tamir rice gopdebate held c...   Neutral\n",
            "3  rt robgeorge carly fiorina trending hours deba...  Positive\n",
            "4  rt danscavino gopdebate w realdonaldtrump deli...  Positive\n"
          ],
          "name": "stdout"
        }
      ]
    },
    {
      "cell_type": "code",
      "metadata": {
        "id": "zQjfgu4PsCXM",
        "outputId": "c317ab78-dd58-4992-e142-951300b963c0",
        "colab": {
          "base_uri": "https://localhost:8080/",
          "height": 118
        }
      },
      "source": [
        "for i in range(len(data)):\n",
        "    data['text'][i] = data['text'][i].replace('rt ','')\n",
        "\n",
        "print(data.head())"
      ],
      "execution_count": 45,
      "outputs": [
        {
          "output_type": "stream",
          "text": [
            "                                                text sentiment\n",
            "0  nancyleegrahn everyone feel climate change que...   Neutral\n",
            "1  scottwalker catch full gopdebate last night sc...  Positive\n",
            "2  tjmshow mention tamir rice gopdebate held clev...   Neutral\n",
            "3  robgeorge carly fiorina trending hours debate ...  Positive\n",
            "4  danscavino gopdebate w realdonaldtrump deliver...  Positive\n"
          ],
          "name": "stdout"
        }
      ]
    },
    {
      "cell_type": "code",
      "metadata": {
        "id": "mVhpUFuCsJ8_"
      },
      "source": [
        "#Converting the dataframe into list\n",
        "reviews = data['text'].tolist()\n",
        "sentiment = data['sentiment'].tolist()"
      ],
      "execution_count": 46,
      "outputs": []
    },
    {
      "cell_type": "markdown",
      "metadata": {
        "id": "VeHjt0HZrltr"
      },
      "source": [
        "### Preparing the Corpus"
      ]
    },
    {
      "cell_type": "code",
      "metadata": {
        "id": "HHt2EHLXsPET"
      },
      "source": [
        "corpus = []\n",
        "for i in range(len(reviews)):\n",
        "    corpus.append(word_tokenize(reviews[i]))"
      ],
      "execution_count": 47,
      "outputs": []
    },
    {
      "cell_type": "markdown",
      "metadata": {
        "id": "TbpHHHlsr1TM"
      },
      "source": [
        "### Tokenization"
      ]
    },
    {
      "cell_type": "code",
      "metadata": {
        "id": "lZzZLImhuAAU"
      },
      "source": [
        "#Tokenization\n",
        "max_features = 1200 \n",
        "tokenizer = Tokenizer(nb_words=max_features, split=' ')\n",
        "tokenizer.fit_on_texts(data['text'].values)"
      ],
      "execution_count": 48,
      "outputs": []
    },
    {
      "cell_type": "code",
      "metadata": {
        "id": "Rmw2NreLuI88"
      },
      "source": [
        "X = tokenizer.texts_to_sequences(data['text'].values)\n",
        "X = pad_sequences(X, padding = 'post') #Zero padding at the end of the sequence"
      ],
      "execution_count": 49,
      "outputs": []
    },
    {
      "cell_type": "markdown",
      "metadata": {
        "id": "2bUWtB3Zr5PW"
      },
      "source": [
        "### Label Encoding"
      ]
    },
    {
      "cell_type": "code",
      "metadata": {
        "id": "-fXqz-wLtdpe"
      },
      "source": [
        "le = preprocessing.LabelEncoder()\n",
        "Y = le.fit_transform(sentiment)"
      ],
      "execution_count": 50,
      "outputs": []
    },
    {
      "cell_type": "code",
      "metadata": {
        "id": "8DCT8swLuOxW",
        "outputId": "2c496805-3e1a-4867-a114-30119f619201",
        "colab": {
          "base_uri": "https://localhost:8080/",
          "height": 134
        }
      },
      "source": [
        "Y = to_categorical(Y)\n",
        "print(Y)"
      ],
      "execution_count": 51,
      "outputs": [
        {
          "output_type": "stream",
          "text": [
            "[[0. 1. 0.]\n",
            " [0. 0. 1.]\n",
            " [0. 1. 0.]\n",
            " ...\n",
            " [0. 0. 1.]\n",
            " [1. 0. 0.]\n",
            " [0. 0. 1.]]\n"
          ],
          "name": "stdout"
        }
      ]
    },
    {
      "cell_type": "markdown",
      "metadata": {
        "id": "-gq0brs8r7y0"
      },
      "source": [
        "### Train-test split"
      ]
    },
    {
      "cell_type": "code",
      "metadata": {
        "id": "EUyvv4f0uTiH"
      },
      "source": [
        "#Splitting the data into train data and test data\n",
        "X_train, X_test, y_train, y_test = train_test_split(X, Y, test_size=0.2)"
      ],
      "execution_count": 52,
      "outputs": []
    },
    {
      "cell_type": "markdown",
      "metadata": {
        "id": "2sT07hUVr_Bt"
      },
      "source": [
        "### Architecture 1 : CNN + Bidirectional RNN"
      ]
    },
    {
      "cell_type": "code",
      "metadata": {
        "id": "5CkWmDsxuYKg",
        "outputId": "e0930950-1c71-47e0-c8b9-88cb2a9a5dc3",
        "colab": {
          "base_uri": "https://localhost:8080/",
          "height": 370
        }
      },
      "source": [
        "from keras.layers import Bidirectional, SimpleRNN\n",
        "\n",
        "embed_dim = 500\n",
        "hidden_layer = 100\n",
        "\n",
        "model = Sequential()\n",
        "model.add(Embedding(max_features, embed_dim,input_length = X.shape[1]))\n",
        "model.add(Conv1D(100,7))\n",
        "model.add(Bidirectional(SimpleRNN(hidden_layer,activation='tanh')))\n",
        "#model.add(Conv1D(100,5))\n",
        "#model.add(SimpleRNN(hidden_layer))\n",
        "model.add(Flatten())\n",
        "model.add(Dense(128))\n",
        "model.add(Dense(3,activation='softmax'))\n",
        "model.compile(loss = 'categorical_crossentropy', optimizer='adam',metrics = ['accuracy'])\n",
        "print(model.summary())"
      ],
      "execution_count": 102,
      "outputs": [
        {
          "output_type": "stream",
          "text": [
            "Model: \"sequential_26\"\n",
            "_________________________________________________________________\n",
            "Layer (type)                 Output Shape              Param #   \n",
            "=================================================================\n",
            "embedding_26 (Embedding)     (None, 24, 500)           600000    \n",
            "_________________________________________________________________\n",
            "conv1d_28 (Conv1D)           (None, 18, 100)           350100    \n",
            "_________________________________________________________________\n",
            "bidirectional_25 (Bidirectio (None, 200)               40200     \n",
            "_________________________________________________________________\n",
            "flatten_18 (Flatten)         (None, 200)               0         \n",
            "_________________________________________________________________\n",
            "dense_35 (Dense)             (None, 128)               25728     \n",
            "_________________________________________________________________\n",
            "dense_36 (Dense)             (None, 3)                 387       \n",
            "=================================================================\n",
            "Total params: 1,016,415\n",
            "Trainable params: 1,016,415\n",
            "Non-trainable params: 0\n",
            "_________________________________________________________________\n",
            "None\n"
          ],
          "name": "stdout"
        }
      ]
    },
    {
      "cell_type": "code",
      "metadata": {
        "id": "J2NQ9c6_xw2T",
        "outputId": "4b60118b-20f3-4750-de53-45ad2cb66924",
        "colab": {
          "base_uri": "https://localhost:8080/",
          "height": 370
        }
      },
      "source": [
        "batch_size = 32\n",
        "model.fit(X_train, y_train, epochs = 10, batch_size=batch_size, validation_split = 0.1)"
      ],
      "execution_count": 103,
      "outputs": [
        {
          "output_type": "stream",
          "text": [
            "Epoch 1/10\n",
            "313/313 [==============================] - 23s 73ms/step - loss: 0.8246 - accuracy: 0.6438 - val_loss: 0.7737 - val_accuracy: 0.6613\n",
            "Epoch 2/10\n",
            "313/313 [==============================] - 23s 73ms/step - loss: 0.6644 - accuracy: 0.7198 - val_loss: 0.7747 - val_accuracy: 0.6441\n",
            "Epoch 3/10\n",
            "313/313 [==============================] - 23s 73ms/step - loss: 0.5503 - accuracy: 0.7724 - val_loss: 0.8276 - val_accuracy: 0.6631\n",
            "Epoch 4/10\n",
            "313/313 [==============================] - 23s 73ms/step - loss: 0.4584 - accuracy: 0.8179 - val_loss: 0.9186 - val_accuracy: 0.6622\n",
            "Epoch 5/10\n",
            "313/313 [==============================] - 23s 73ms/step - loss: 0.3915 - accuracy: 0.8426 - val_loss: 0.9757 - val_accuracy: 0.6505\n",
            "Epoch 6/10\n",
            "313/313 [==============================] - 23s 73ms/step - loss: 0.3547 - accuracy: 0.8528 - val_loss: 1.0958 - val_accuracy: 0.6351\n",
            "Epoch 7/10\n",
            "313/313 [==============================] - 23s 73ms/step - loss: 0.3132 - accuracy: 0.8690 - val_loss: 1.1973 - val_accuracy: 0.6505\n",
            "Epoch 8/10\n",
            "313/313 [==============================] - 23s 73ms/step - loss: 0.2880 - accuracy: 0.8760 - val_loss: 1.2610 - val_accuracy: 0.6468\n",
            "Epoch 9/10\n",
            "313/313 [==============================] - 23s 74ms/step - loss: 0.2670 - accuracy: 0.8878 - val_loss: 1.2716 - val_accuracy: 0.6568\n",
            "Epoch 10/10\n",
            "313/313 [==============================] - 23s 74ms/step - loss: 0.2655 - accuracy: 0.8888 - val_loss: 1.3309 - val_accuracy: 0.6432\n"
          ],
          "name": "stdout"
        },
        {
          "output_type": "execute_result",
          "data": {
            "text/plain": [
              "<tensorflow.python.keras.callbacks.History at 0x7ff73bd6bfd0>"
            ]
          },
          "metadata": {
            "tags": []
          },
          "execution_count": 103
        }
      ]
    },
    {
      "cell_type": "code",
      "metadata": {
        "id": "ZIAbm9Xty23E",
        "outputId": "7d1b3a56-abfd-414b-b08e-6d59fbd2204f",
        "colab": {
          "base_uri": "https://localhost:8080/",
          "height": 50
        }
      },
      "source": [
        "score = model.evaluate(X_test, y_test, verbose = 2, batch_size = batch_size)\n",
        "print(\"Accuracy: %.2f\" % (score[1]*100))"
      ],
      "execution_count": 104,
      "outputs": [
        {
          "output_type": "stream",
          "text": [
            "87/87 - 1s - loss: 1.3299 - accuracy: 0.6494\n",
            "Accuracy: 64.94\n"
          ],
          "name": "stdout"
        }
      ]
    },
    {
      "cell_type": "markdown",
      "metadata": {
        "id": "_yNpRxk-sZ6V"
      },
      "source": [
        "### Architecture 2 : CNN"
      ]
    },
    {
      "cell_type": "code",
      "metadata": {
        "id": "w_lXCJ09sb_c",
        "outputId": "991fc99f-62bb-4971-a91a-059719d23fcf",
        "colab": {
          "base_uri": "https://localhost:8080/",
          "height": 302
        }
      },
      "source": [
        "model2 = Sequential()\n",
        "model2.add(Embedding(max_features, embed_dim,input_length = X.shape[1]))\n",
        "model2.add(Conv1D(100,7))\n",
        "model2.add(Flatten())\n",
        "model2.add(Dense(3,activation='softmax'))\n",
        "model2.compile(loss = 'categorical_crossentropy', optimizer='adam',metrics = ['accuracy'])\n",
        "print(model2.summary())"
      ],
      "execution_count": 105,
      "outputs": [
        {
          "output_type": "stream",
          "text": [
            "Model: \"sequential_27\"\n",
            "_________________________________________________________________\n",
            "Layer (type)                 Output Shape              Param #   \n",
            "=================================================================\n",
            "embedding_27 (Embedding)     (None, 24, 500)           600000    \n",
            "_________________________________________________________________\n",
            "conv1d_29 (Conv1D)           (None, 18, 100)           350100    \n",
            "_________________________________________________________________\n",
            "flatten_19 (Flatten)         (None, 1800)              0         \n",
            "_________________________________________________________________\n",
            "dense_37 (Dense)             (None, 3)                 5403      \n",
            "=================================================================\n",
            "Total params: 955,503\n",
            "Trainable params: 955,503\n",
            "Non-trainable params: 0\n",
            "_________________________________________________________________\n",
            "None\n"
          ],
          "name": "stdout"
        }
      ]
    },
    {
      "cell_type": "code",
      "metadata": {
        "id": "bbGA8anqsqmj",
        "outputId": "a3c52ef4-475f-4625-8d3d-49394f020a05",
        "colab": {
          "base_uri": "https://localhost:8080/",
          "height": 370
        }
      },
      "source": [
        "batch_size = 32\n",
        "model2.fit(X_train, y_train, epochs = 10, batch_size=batch_size, validation_split = 0.1)"
      ],
      "execution_count": 106,
      "outputs": [
        {
          "output_type": "stream",
          "text": [
            "Epoch 1/10\n",
            "313/313 [==============================] - 20s 63ms/step - loss: 0.8041 - accuracy: 0.6530 - val_loss: 0.7538 - val_accuracy: 0.6748\n",
            "Epoch 2/10\n",
            "313/313 [==============================] - 20s 63ms/step - loss: 0.6414 - accuracy: 0.7258 - val_loss: 0.8029 - val_accuracy: 0.6541\n",
            "Epoch 3/10\n",
            "313/313 [==============================] - 20s 63ms/step - loss: 0.5374 - accuracy: 0.7841 - val_loss: 0.8250 - val_accuracy: 0.6775\n",
            "Epoch 4/10\n",
            "313/313 [==============================] - 20s 63ms/step - loss: 0.4604 - accuracy: 0.8200 - val_loss: 0.9508 - val_accuracy: 0.6450\n",
            "Epoch 5/10\n",
            "313/313 [==============================] - 20s 64ms/step - loss: 0.4279 - accuracy: 0.8403 - val_loss: 0.9543 - val_accuracy: 0.6523\n",
            "Epoch 6/10\n",
            "313/313 [==============================] - 20s 64ms/step - loss: 0.3888 - accuracy: 0.8572 - val_loss: 1.0534 - val_accuracy: 0.6468\n",
            "Epoch 7/10\n",
            "313/313 [==============================] - 20s 64ms/step - loss: 0.3642 - accuracy: 0.8655 - val_loss: 1.0660 - val_accuracy: 0.6477\n",
            "Epoch 8/10\n",
            "313/313 [==============================] - 20s 64ms/step - loss: 0.3500 - accuracy: 0.8677 - val_loss: 1.1325 - val_accuracy: 0.6595\n",
            "Epoch 9/10\n",
            "313/313 [==============================] - 20s 63ms/step - loss: 0.3414 - accuracy: 0.8777 - val_loss: 1.1507 - val_accuracy: 0.6586\n",
            "Epoch 10/10\n",
            "313/313 [==============================] - 20s 64ms/step - loss: 0.3329 - accuracy: 0.8768 - val_loss: 1.1400 - val_accuracy: 0.6396\n"
          ],
          "name": "stdout"
        },
        {
          "output_type": "execute_result",
          "data": {
            "text/plain": [
              "<tensorflow.python.keras.callbacks.History at 0x7ff73b9aeef0>"
            ]
          },
          "metadata": {
            "tags": []
          },
          "execution_count": 106
        }
      ]
    },
    {
      "cell_type": "code",
      "metadata": {
        "id": "A7KmW-vfsuqJ",
        "outputId": "3581ba9e-681a-4429-9ef5-a82f5a65b432",
        "colab": {
          "base_uri": "https://localhost:8080/",
          "height": 50
        }
      },
      "source": [
        "score = model2.evaluate(X_test, y_test, verbose = 2, batch_size = batch_size)\n",
        "print(\"Accuracy: %.2f\" % (score[1]*100))"
      ],
      "execution_count": 107,
      "outputs": [
        {
          "output_type": "stream",
          "text": [
            "87/87 - 1s - loss: 1.2051 - accuracy: 0.6328\n",
            "Accuracy: 63.28\n"
          ],
          "name": "stdout"
        }
      ]
    },
    {
      "cell_type": "markdown",
      "metadata": {
        "id": "7VlAhk8js5DJ"
      },
      "source": [
        "### Architecture 3 : Bidirectional LSTM"
      ]
    },
    {
      "cell_type": "code",
      "metadata": {
        "id": "_FtVKQ6Bs4nv",
        "outputId": "ea477496-46ff-4578-a0ba-258632330687",
        "colab": {
          "base_uri": "https://localhost:8080/",
          "height": 336
        }
      },
      "source": [
        "embed_dim = 500\n",
        "hidden_layer = 100\n",
        "\n",
        "model3 = Sequential()\n",
        "model3.add(Embedding(max_features, embed_dim,input_length = X.shape[1]))\n",
        "model3.add(Bidirectional(LSTM(hidden_layer,activation='tanh')))\n",
        "model3.add(Flatten())\n",
        "model3.add(Dense(64))\n",
        "model3.add(Dense(3,activation='softmax'))\n",
        "model3.compile(loss = 'categorical_crossentropy', optimizer='adam',metrics = ['accuracy'])\n",
        "print(model3.summary())"
      ],
      "execution_count": 108,
      "outputs": [
        {
          "output_type": "stream",
          "text": [
            "Model: \"sequential_28\"\n",
            "_________________________________________________________________\n",
            "Layer (type)                 Output Shape              Param #   \n",
            "=================================================================\n",
            "embedding_28 (Embedding)     (None, 24, 500)           600000    \n",
            "_________________________________________________________________\n",
            "bidirectional_26 (Bidirectio (None, 200)               480800    \n",
            "_________________________________________________________________\n",
            "flatten_20 (Flatten)         (None, 200)               0         \n",
            "_________________________________________________________________\n",
            "dense_38 (Dense)             (None, 64)                12864     \n",
            "_________________________________________________________________\n",
            "dense_39 (Dense)             (None, 3)                 195       \n",
            "=================================================================\n",
            "Total params: 1,093,859\n",
            "Trainable params: 1,093,859\n",
            "Non-trainable params: 0\n",
            "_________________________________________________________________\n",
            "None\n"
          ],
          "name": "stdout"
        }
      ]
    },
    {
      "cell_type": "code",
      "metadata": {
        "id": "kyof1YPLtQi0",
        "outputId": "c397586a-7089-4f07-afe5-e154e5d7f0f0",
        "colab": {
          "base_uri": "https://localhost:8080/",
          "height": 370
        }
      },
      "source": [
        "batch_size = 32\n",
        "model3.fit(X_train, y_train, epochs = 10, batch_size=batch_size, validation_split = 0.1)"
      ],
      "execution_count": 109,
      "outputs": [
        {
          "output_type": "stream",
          "text": [
            "Epoch 1/10\n",
            "313/313 [==============================] - 40s 127ms/step - loss: 0.7901 - accuracy: 0.6560 - val_loss: 0.7400 - val_accuracy: 0.6748\n",
            "Epoch 2/10\n",
            "313/313 [==============================] - 39s 126ms/step - loss: 0.6792 - accuracy: 0.7071 - val_loss: 0.7561 - val_accuracy: 0.6604\n",
            "Epoch 3/10\n",
            "313/313 [==============================] - 39s 125ms/step - loss: 0.6296 - accuracy: 0.7286 - val_loss: 0.7880 - val_accuracy: 0.6748\n",
            "Epoch 4/10\n",
            "313/313 [==============================] - 39s 125ms/step - loss: 0.5839 - accuracy: 0.7440 - val_loss: 0.8086 - val_accuracy: 0.6730\n",
            "Epoch 5/10\n",
            "313/313 [==============================] - 39s 124ms/step - loss: 0.5369 - accuracy: 0.7654 - val_loss: 0.9103 - val_accuracy: 0.6649\n",
            "Epoch 6/10\n",
            "313/313 [==============================] - 39s 124ms/step - loss: 0.4954 - accuracy: 0.7846 - val_loss: 0.9702 - val_accuracy: 0.6486\n",
            "Epoch 7/10\n",
            "313/313 [==============================] - 39s 126ms/step - loss: 0.4489 - accuracy: 0.8039 - val_loss: 1.0946 - val_accuracy: 0.6649\n",
            "Epoch 8/10\n",
            "313/313 [==============================] - 39s 124ms/step - loss: 0.4043 - accuracy: 0.8273 - val_loss: 1.2862 - val_accuracy: 0.6505\n",
            "Epoch 9/10\n",
            "313/313 [==============================] - 39s 125ms/step - loss: 0.3670 - accuracy: 0.8448 - val_loss: 1.3723 - val_accuracy: 0.6613\n",
            "Epoch 10/10\n",
            "313/313 [==============================] - 39s 123ms/step - loss: 0.3276 - accuracy: 0.8598 - val_loss: 1.5964 - val_accuracy: 0.6586\n"
          ],
          "name": "stdout"
        },
        {
          "output_type": "execute_result",
          "data": {
            "text/plain": [
              "<tensorflow.python.keras.callbacks.History at 0x7ff7395bc7f0>"
            ]
          },
          "metadata": {
            "tags": []
          },
          "execution_count": 109
        }
      ]
    },
    {
      "cell_type": "code",
      "metadata": {
        "id": "s2efNP4htTm3",
        "outputId": "79e491f5-3322-44f7-fcd7-ed92dc629e68",
        "colab": {
          "base_uri": "https://localhost:8080/",
          "height": 50
        }
      },
      "source": [
        "score = model3.evaluate(X_test, y_test, verbose = 2, batch_size = batch_size)\n",
        "print(\"Accuracy: %.2f\" % (score[1]*100))"
      ],
      "execution_count": 110,
      "outputs": [
        {
          "output_type": "stream",
          "text": [
            "87/87 - 2s - loss: 1.5377 - accuracy: 0.6389\n",
            "Accuracy: 63.89\n"
          ],
          "name": "stdout"
        }
      ]
    },
    {
      "cell_type": "markdown",
      "metadata": {
        "id": "gGYjI8rMg9HX"
      },
      "source": [
        "# Amazon Reviews Sentiment Analysis dataset obtained from Kaggle Challenges. \n",
        "https://www.kaggle.com/bittlingmayer/amazonreviews\n",
        "\n",
        "The dataset consists of 2 classes which correspond to 2 sentiments expressed in the reviews of the customers, based on star ratings."
      ]
    },
    {
      "cell_type": "markdown",
      "metadata": {
        "id": "xuDsW57hXYae"
      },
      "source": [
        "### Handling .bz2 file format"
      ]
    },
    {
      "cell_type": "code",
      "metadata": {
        "id": "5lGE2v1fWEKV"
      },
      "source": [
        "train_file = bz2.BZ2File('/content/drive/My Drive/train.ft.txt.bz2')\n",
        "test_file = bz2.BZ2File('/content/drive/My Drive/test.ft.txt.bz2')"
      ],
      "execution_count": null,
      "outputs": []
    },
    {
      "cell_type": "code",
      "metadata": {
        "id": "aTi0e6u7Wn7w",
        "outputId": "1646a5d1-6168-471b-a6f7-54ea58eb6342",
        "colab": {
          "base_uri": "https://localhost:8080/",
          "height": 34
        }
      },
      "source": [
        "type(train_file)"
      ],
      "execution_count": null,
      "outputs": [
        {
          "output_type": "execute_result",
          "data": {
            "text/plain": [
              "bz2.BZ2File"
            ]
          },
          "metadata": {
            "tags": []
          },
          "execution_count": 3
        }
      ]
    },
    {
      "cell_type": "code",
      "metadata": {
        "id": "mLDCmFnFWH0n"
      },
      "source": [
        "train_file_lines = train_file.readlines()\n",
        "test_file_lines = test_file.readlines()"
      ],
      "execution_count": null,
      "outputs": []
    },
    {
      "cell_type": "markdown",
      "metadata": {
        "id": "pq7rBAmOXTCB"
      },
      "source": [
        "### Train and Test data preparation"
      ]
    },
    {
      "cell_type": "code",
      "metadata": {
        "id": "ttyeD-ubXraW"
      },
      "source": [
        "train_data = [x.decode('utf-8') for x in train_file_lines]\n",
        "test_data = [x.decode('utf-8') for x in test_file_lines]"
      ],
      "execution_count": null,
      "outputs": []
    },
    {
      "cell_type": "code",
      "metadata": {
        "id": "4RskFmeWX_hB",
        "outputId": "3822df01-8021-41bb-8f64-8a0bd083332e",
        "colab": {
          "base_uri": "https://localhost:8080/",
          "height": 34
        }
      },
      "source": [
        "print(len(train_data))"
      ],
      "execution_count": null,
      "outputs": [
        {
          "output_type": "stream",
          "text": [
            "3600000\n"
          ],
          "name": "stdout"
        }
      ]
    },
    {
      "cell_type": "code",
      "metadata": {
        "id": "JPgBmBBrqHsr",
        "outputId": "b7a3005c-011b-41d9-a6c1-c1aa6f858de2",
        "colab": {
          "base_uri": "https://localhost:8080/",
          "height": 104
        }
      },
      "source": [
        "train_data[1:5]"
      ],
      "execution_count": null,
      "outputs": [
        {
          "output_type": "execute_result",
          "data": {
            "text/plain": [
              "[\"__label__2 The best soundtrack ever to anything.: I'm reading a lot of reviews saying that this is the best 'game soundtrack' and I figured that I'd write a review to disagree a bit. This in my opinino is Yasunori Mitsuda's ultimate masterpiece. The music is timeless and I'm been listening to it for years now and its beauty simply refuses to fade.The price tag on this is pretty staggering I must say, but if you are going to buy any cd for this much money, this is the only one that I feel would be worth every penny.\\n\",\n",
              " '__label__2 Amazing!: This soundtrack is my favorite music of all time, hands down. The intense sadness of \"Prisoners of Fate\" (which means all the more if you\\'ve played the game) and the hope in \"A Distant Promise\" and \"Girl who Stole the Star\" have been an important inspiration to me personally throughout my teen years. The higher energy tracks like \"Chrono Cross ~ Time\\'s Scar~\", \"Time of the Dreamwatch\", and \"Chronomantique\" (indefinably remeniscent of Chrono Trigger) are all absolutely superb as well.This soundtrack is amazing music, probably the best of this composer\\'s work (I haven\\'t heard the Xenogears soundtrack, so I can\\'t say for sure), and even if you\\'ve never played the game, it would be worth twice the price to buy it.I wish I could give it 6 stars.\\n',\n",
              " \"__label__2 Excellent Soundtrack: I truly like this soundtrack and I enjoy video game music. I have played this game and most of the music on here I enjoy and it's truly relaxing and peaceful.On disk one. my favorites are Scars Of Time, Between Life and Death, Forest Of Illusion, Fortress of Ancient Dragons, Lost Fragment, and Drowned Valley.Disk Two: The Draggons, Galdorb - Home, Chronomantique, Prisoners of Fate, Gale, and my girlfriend likes ZelbessDisk Three: The best of the three. Garden Of God, Chronopolis, Fates, Jellyfish sea, Burning Orphange, Dragon's Prayer, Tower Of Stars, Dragon God, and Radical Dreamers - Unstealable Jewel.Overall, this is a excellent soundtrack and should be brought by those that like video game music.Xander Cross\\n\",\n",
              " \"__label__2 Remember, Pull Your Jaw Off The Floor After Hearing it: If you've played the game, you know how divine the music is! Every single song tells a story of the game, it's that good! The greatest songs are without a doubt, Chrono Cross: Time's Scar, Magical Dreamers: The Wind, The Stars, and the Sea and Radical Dreamers: Unstolen Jewel. (Translation varies) This music is perfect if you ask me, the best it can be. Yasunori Mitsuda just poured his heart on and wrote it down on paper.\\n\"]"
            ]
          },
          "metadata": {
            "tags": []
          },
          "execution_count": 8
        }
      ]
    },
    {
      "cell_type": "code",
      "metadata": {
        "id": "Mh_bLDHIr96K"
      },
      "source": [
        "traindata1 = [x.replace(\"__label__2\",\"1\") for x in train_data]\n",
        "traindata0 = [x.replace(\"__label__1\",\"0\") for x in traindata1]"
      ],
      "execution_count": null,
      "outputs": []
    },
    {
      "cell_type": "code",
      "metadata": {
        "id": "x5NZKD2FAV2w",
        "outputId": "0a94031b-5081-4211-b131-153c058741bd",
        "colab": {
          "base_uri": "https://localhost:8080/",
          "height": 34
        }
      },
      "source": [
        "len(traindata0)"
      ],
      "execution_count": null,
      "outputs": [
        {
          "output_type": "execute_result",
          "data": {
            "text/plain": [
              "3600000"
            ]
          },
          "metadata": {
            "tags": []
          },
          "execution_count": 10
        }
      ]
    },
    {
      "cell_type": "code",
      "metadata": {
        "id": "xxceGvcnlbqC"
      },
      "source": [
        "from sklearn.utils import shuffle\n",
        "traindata0 = shuffle(traindata0)"
      ],
      "execution_count": null,
      "outputs": []
    },
    {
      "cell_type": "code",
      "metadata": {
        "id": "w_i6t1wPN2D9"
      },
      "source": [
        "traindata = traindata0[0:36000]"
      ],
      "execution_count": null,
      "outputs": []
    },
    {
      "cell_type": "code",
      "metadata": {
        "id": "rMwi84TQdURB",
        "outputId": "5b43486a-da04-46d2-c9d7-120d0751d1f3",
        "colab": {
          "base_uri": "https://localhost:8080/",
          "height": 34
        }
      },
      "source": [
        "len(traindata)"
      ],
      "execution_count": null,
      "outputs": [
        {
          "output_type": "execute_result",
          "data": {
            "text/plain": [
              "36000"
            ]
          },
          "metadata": {
            "tags": []
          },
          "execution_count": 104
        }
      ]
    },
    {
      "cell_type": "code",
      "metadata": {
        "id": "d-dVc9AtdFZc",
        "outputId": "04207230-41b6-4173-ecbb-a2cb07c389b2",
        "colab": {
          "base_uri": "https://localhost:8080/",
          "height": 104
        }
      },
      "source": [
        "traindata[1:5]"
      ],
      "execution_count": null,
      "outputs": [
        {
          "output_type": "execute_result",
          "data": {
            "text/plain": [
              "[\"1 The best soundtrack ever to anything.: I'm reading a lot of reviews saying that this is the best 'game soundtrack' and I figured that I'd write a review to disagree a bit. This in my opinino is Yasunori Mitsuda's ultimate masterpiece. The music is timeless and I'm been listening to it for years now and its beauty simply refuses to fade.The price tag on this is pretty staggering I must say, but if you are going to buy any cd for this much money, this is the only one that I feel would be worth every penny.\\n\",\n",
              " '1 Amazing!: This soundtrack is my favorite music of all time, hands down. The intense sadness of \"Prisoners of Fate\" (which means all the more if you\\'ve played the game) and the hope in \"A Distant Promise\" and \"Girl who Stole the Star\" have been an important inspiration to me personally throughout my teen years. The higher energy tracks like \"Chrono Cross ~ Time\\'s Scar~\", \"Time of the Dreamwatch\", and \"Chronomantique\" (indefinably remeniscent of Chrono Trigger) are all absolutely superb as well.This soundtrack is amazing music, probably the best of this composer\\'s work (I haven\\'t heard the Xenogears soundtrack, so I can\\'t say for sure), and even if you\\'ve never played the game, it would be worth twice the price to buy it.I wish I could give it 6 stars.\\n',\n",
              " \"1 Excellent Soundtrack: I truly like this soundtrack and I enjoy video game music. I have played this game and most of the music on here I enjoy and it's truly relaxing and peaceful.On disk one. my favorites are Scars Of Time, Between Life and Death, Forest Of Illusion, Fortress of Ancient Dragons, Lost Fragment, and Drowned Valley.Disk Two: The Draggons, Galdorb - Home, Chronomantique, Prisoners of Fate, Gale, and my girlfriend likes ZelbessDisk Three: The best of the three. Garden Of God, Chronopolis, Fates, Jellyfish sea, Burning Orphange, Dragon's Prayer, Tower Of Stars, Dragon God, and Radical Dreamers - Unstealable Jewel.Overall, this is a excellent soundtrack and should be brought by those that like video game music.Xander Cross\\n\",\n",
              " \"1 Remember, Pull Your Jaw Off The Floor After Hearing it: If you've played the game, you know how divine the music is! Every single song tells a story of the game, it's that good! The greatest songs are without a doubt, Chrono Cross: Time's Scar, Magical Dreamers: The Wind, The Stars, and the Sea and Radical Dreamers: Unstolen Jewel. (Translation varies) This music is perfect if you ask me, the best it can be. Yasunori Mitsuda just poured his heart on and wrote it down on paper.\\n\"]"
            ]
          },
          "metadata": {
            "tags": []
          },
          "execution_count": 13
        }
      ]
    },
    {
      "cell_type": "code",
      "metadata": {
        "id": "NZDbB90V5Dht"
      },
      "source": [
        "train_labels = [x.split(\" \")[0] for x in traindata]"
      ],
      "execution_count": null,
      "outputs": []
    },
    {
      "cell_type": "code",
      "metadata": {
        "id": "t5whpxJ9MJSd",
        "outputId": "59c2834f-91df-4a8b-fa8b-772ca652b8cd",
        "colab": {
          "base_uri": "https://localhost:8080/",
          "height": 34
        }
      },
      "source": [
        "len(train_labels)"
      ],
      "execution_count": null,
      "outputs": [
        {
          "output_type": "execute_result",
          "data": {
            "text/plain": [
              "36000"
            ]
          },
          "metadata": {
            "tags": []
          },
          "execution_count": 106
        }
      ]
    },
    {
      "cell_type": "code",
      "metadata": {
        "id": "z6xgf2it7PwW"
      },
      "source": [
        "train = [re.split('^\\d',x)[1] for x in traindata]"
      ],
      "execution_count": null,
      "outputs": []
    },
    {
      "cell_type": "code",
      "metadata": {
        "id": "Y9LlcR-p9FVl",
        "outputId": "8e897cb0-9a00-4d40-c956-fbce06b70a26",
        "colab": {
          "base_uri": "https://localhost:8080/",
          "height": 34
        }
      },
      "source": [
        "len(train)"
      ],
      "execution_count": null,
      "outputs": [
        {
          "output_type": "execute_result",
          "data": {
            "text/plain": [
              "36000"
            ]
          },
          "metadata": {
            "tags": []
          },
          "execution_count": 108
        }
      ]
    },
    {
      "cell_type": "code",
      "metadata": {
        "id": "9zRsa5huPGef",
        "outputId": "7aaa087c-f96e-432f-9253-88072408635b",
        "colab": {
          "base_uri": "https://localhost:8080/",
          "height": 104
        }
      },
      "source": [
        "train[1:5]"
      ],
      "execution_count": null,
      "outputs": [
        {
          "output_type": "execute_result",
          "data": {
            "text/plain": [
              "[\" It Works..: Didn't spontaneously combust or eat the dvds. Definitely the best deal I have found for a large capacity wallet\\n\",\n",
              " \" coating came off: Anolon not impressed with the coating came off in no time didn't cook evenly I through this away long ago\\n\",\n",
              " \" Same old same old: This is same old stuff everybody else talks about.You are what you think and you can do anything you set your mind to. The information in the book i can get that by wathching oprah for free and not get the smart ass comments about poor people that was in the book. Hes just another person that happened to get rich because he figured out how to scam people out of money at his semianrs.He makes it sound like people can start big business even if they are poor,so..i want to start flipping houses i live pay check to pay check am i suppose to pull the money out my ass? also, he's very arrogant when he talks about poor people.Get a persoanlity.I'm glad i bought this book used.\\n\",\n",
              " ' great planner with weak blades: I have only had this planner for a few weeks now, but the combination of the solid carriage and the fans assisted chip collection are great. When attached to my dust collection system I get almost no mess, except when planning some narrow edges. After attaching the folding tables I get no snipe at all. I think the planner was well worth the extra cost.My only gripe is the blades seem to be a bit brittle or weak. The first couple trys with hard maple gave a glass like finish, however, like another reviewer after only a few boards I am seeing ridges, probably caused by small nicks in the blades.Overall I highly recommend this planner over anything else in its class.\\n']"
            ]
          },
          "metadata": {
            "tags": []
          },
          "execution_count": 109
        }
      ]
    },
    {
      "cell_type": "code",
      "metadata": {
        "id": "t4GpMr0dqOfB"
      },
      "source": [
        "# Data Prep\n",
        "train_df = pd.DataFrame(train)\n",
        "train_df.to_csv(\"train.csv\", index=False, sep=' ', header=False, quoting=csv.QUOTE_NONE, quotechar=\"\", escapechar=\" \")"
      ],
      "execution_count": null,
      "outputs": []
    },
    {
      "cell_type": "code",
      "metadata": {
        "id": "YzOHCOGKrgBH",
        "outputId": "04c05172-4aa5-4425-a972-0e8854671c8a",
        "colab": {
          "base_uri": "https://localhost:8080/",
          "height": 195
        }
      },
      "source": [
        "train_df.head()"
      ],
      "execution_count": null,
      "outputs": [
        {
          "output_type": "execute_result",
          "data": {
            "text/html": [
              "<div>\n",
              "<style scoped>\n",
              "    .dataframe tbody tr th:only-of-type {\n",
              "        vertical-align: middle;\n",
              "    }\n",
              "\n",
              "    .dataframe tbody tr th {\n",
              "        vertical-align: top;\n",
              "    }\n",
              "\n",
              "    .dataframe thead th {\n",
              "        text-align: right;\n",
              "    }\n",
              "</style>\n",
              "<table border=\"1\" class=\"dataframe\">\n",
              "  <thead>\n",
              "    <tr style=\"text-align: right;\">\n",
              "      <th></th>\n",
              "      <th>0</th>\n",
              "    </tr>\n",
              "  </thead>\n",
              "  <tbody>\n",
              "    <tr>\n",
              "      <th>0</th>\n",
              "      <td>Stuning even for the non-gamer: This sound tr...</td>\n",
              "    </tr>\n",
              "    <tr>\n",
              "      <th>1</th>\n",
              "      <td>The best soundtrack ever to anything.: I'm re...</td>\n",
              "    </tr>\n",
              "    <tr>\n",
              "      <th>2</th>\n",
              "      <td>Amazing!: This soundtrack is my favorite musi...</td>\n",
              "    </tr>\n",
              "    <tr>\n",
              "      <th>3</th>\n",
              "      <td>Excellent Soundtrack: I truly like this sound...</td>\n",
              "    </tr>\n",
              "    <tr>\n",
              "      <th>4</th>\n",
              "      <td>Remember, Pull Your Jaw Off The Floor After H...</td>\n",
              "    </tr>\n",
              "  </tbody>\n",
              "</table>\n",
              "</div>"
            ],
            "text/plain": [
              "                                                   0\n",
              "0   Stuning even for the non-gamer: This sound tr...\n",
              "1   The best soundtrack ever to anything.: I'm re...\n",
              "2   Amazing!: This soundtrack is my favorite musi...\n",
              "3   Excellent Soundtrack: I truly like this sound...\n",
              "4   Remember, Pull Your Jaw Off The Floor After H..."
            ]
          },
          "metadata": {
            "tags": []
          },
          "execution_count": 20
        }
      ]
    },
    {
      "cell_type": "code",
      "metadata": {
        "id": "ZFpk92m7ri25"
      },
      "source": [
        "train_labels_df = pd.DataFrame(train_labels)\n",
        "train_labels_df.to_csv(\"train_labels.csv\", index=False, sep=' ', header=False, quoting=csv.QUOTE_NONE, quotechar=\"\", escapechar=\" \")"
      ],
      "execution_count": null,
      "outputs": []
    },
    {
      "cell_type": "code",
      "metadata": {
        "id": "SvxrS9xWPocF",
        "outputId": "cb06378d-5f88-49fd-b5de-451ddeb0f8ef",
        "colab": {
          "base_uri": "https://localhost:8080/",
          "height": 195
        }
      },
      "source": [
        "train_labels_df.head()"
      ],
      "execution_count": null,
      "outputs": [
        {
          "output_type": "execute_result",
          "data": {
            "text/html": [
              "<div>\n",
              "<style scoped>\n",
              "    .dataframe tbody tr th:only-of-type {\n",
              "        vertical-align: middle;\n",
              "    }\n",
              "\n",
              "    .dataframe tbody tr th {\n",
              "        vertical-align: top;\n",
              "    }\n",
              "\n",
              "    .dataframe thead th {\n",
              "        text-align: right;\n",
              "    }\n",
              "</style>\n",
              "<table border=\"1\" class=\"dataframe\">\n",
              "  <thead>\n",
              "    <tr style=\"text-align: right;\">\n",
              "      <th></th>\n",
              "      <th>0</th>\n",
              "    </tr>\n",
              "  </thead>\n",
              "  <tbody>\n",
              "    <tr>\n",
              "      <th>0</th>\n",
              "      <td>1</td>\n",
              "    </tr>\n",
              "    <tr>\n",
              "      <th>1</th>\n",
              "      <td>1</td>\n",
              "    </tr>\n",
              "    <tr>\n",
              "      <th>2</th>\n",
              "      <td>1</td>\n",
              "    </tr>\n",
              "    <tr>\n",
              "      <th>3</th>\n",
              "      <td>1</td>\n",
              "    </tr>\n",
              "    <tr>\n",
              "      <th>4</th>\n",
              "      <td>1</td>\n",
              "    </tr>\n",
              "  </tbody>\n",
              "</table>\n",
              "</div>"
            ],
            "text/plain": [
              "   0\n",
              "0  1\n",
              "1  1\n",
              "2  1\n",
              "3  1\n",
              "4  1"
            ]
          },
          "metadata": {
            "tags": []
          },
          "execution_count": 22
        }
      ]
    },
    {
      "cell_type": "code",
      "metadata": {
        "id": "l_DErpaaPqpW"
      },
      "source": [
        "#Preprocessing\n",
        "def pre_process(review):\n",
        "    words = review.lower() \n",
        "    return words                                            "
      ],
      "execution_count": null,
      "outputs": []
    },
    {
      "cell_type": "code",
      "metadata": {
        "id": "iUEbRSC_RMId",
        "outputId": "b3c47dcd-b76e-4562-e857-c1213e40a042",
        "colab": {
          "base_uri": "https://localhost:8080/",
          "height": 195
        }
      },
      "source": [
        "traindf = train_df.apply(lambda x: pre_process(x))\n",
        "traindf.head()"
      ],
      "execution_count": null,
      "outputs": [
        {
          "output_type": "execute_result",
          "data": {
            "text/html": [
              "<div>\n",
              "<style scoped>\n",
              "    .dataframe tbody tr th:only-of-type {\n",
              "        vertical-align: middle;\n",
              "    }\n",
              "\n",
              "    .dataframe tbody tr th {\n",
              "        vertical-align: top;\n",
              "    }\n",
              "\n",
              "    .dataframe thead th {\n",
              "        text-align: right;\n",
              "    }\n",
              "</style>\n",
              "<table border=\"1\" class=\"dataframe\">\n",
              "  <thead>\n",
              "    <tr style=\"text-align: right;\">\n",
              "      <th></th>\n",
              "      <th>0</th>\n",
              "    </tr>\n",
              "  </thead>\n",
              "  <tbody>\n",
              "    <tr>\n",
              "      <th>0</th>\n",
              "      <td>stuning even for the non-gamer: this sound tr...</td>\n",
              "    </tr>\n",
              "    <tr>\n",
              "      <th>1</th>\n",
              "      <td>the best soundtrack ever to anything.: i'm re...</td>\n",
              "    </tr>\n",
              "    <tr>\n",
              "      <th>2</th>\n",
              "      <td>amazing!: this soundtrack is my favorite musi...</td>\n",
              "    </tr>\n",
              "    <tr>\n",
              "      <th>3</th>\n",
              "      <td>excellent soundtrack: i truly like this sound...</td>\n",
              "    </tr>\n",
              "    <tr>\n",
              "      <th>4</th>\n",
              "      <td>remember, pull your jaw off the floor after h...</td>\n",
              "    </tr>\n",
              "  </tbody>\n",
              "</table>\n",
              "</div>"
            ],
            "text/plain": [
              "                                                   0\n",
              "0   stuning even for the non-gamer: this sound tr...\n",
              "1   the best soundtrack ever to anything.: i'm re...\n",
              "2   amazing!: this soundtrack is my favorite musi...\n",
              "3   excellent soundtrack: i truly like this sound...\n",
              "4   remember, pull your jaw off the floor after h..."
            ]
          },
          "metadata": {
            "tags": []
          },
          "execution_count": 42
        }
      ]
    },
    {
      "cell_type": "code",
      "metadata": {
        "id": "TXTVD76iVRVG"
      },
      "source": [
        "review = []\n",
        "for x in train:\n",
        "  review.append(pre_process(x)) "
      ],
      "execution_count": null,
      "outputs": []
    },
    {
      "cell_type": "code",
      "metadata": {
        "id": "zgZCyca-Y1Fc",
        "outputId": "7df25f93-e46e-4960-8edf-2383305eee17",
        "colab": {
          "base_uri": "https://localhost:8080/",
          "height": 34
        }
      },
      "source": [
        "len(review)"
      ],
      "execution_count": null,
      "outputs": [
        {
          "output_type": "execute_result",
          "data": {
            "text/plain": [
              "36000"
            ]
          },
          "metadata": {
            "tags": []
          },
          "execution_count": 111
        }
      ]
    },
    {
      "cell_type": "code",
      "metadata": {
        "id": "W59lKiqMY3kq",
        "outputId": "3208c547-b13f-4612-82c7-8559461d9f68",
        "colab": {
          "base_uri": "https://localhost:8080/",
          "height": 104
        }
      },
      "source": [
        "review[1:5]"
      ],
      "execution_count": null,
      "outputs": [
        {
          "output_type": "execute_result",
          "data": {
            "text/plain": [
              "[\" it works..: didn't spontaneously combust or eat the dvds. definitely the best deal i have found for a large capacity wallet\\n\",\n",
              " \" coating came off: anolon not impressed with the coating came off in no time didn't cook evenly i through this away long ago\\n\",\n",
              " \" same old same old: this is same old stuff everybody else talks about.you are what you think and you can do anything you set your mind to. the information in the book i can get that by wathching oprah for free and not get the smart ass comments about poor people that was in the book. hes just another person that happened to get rich because he figured out how to scam people out of money at his semianrs.he makes it sound like people can start big business even if they are poor,so..i want to start flipping houses i live pay check to pay check am i suppose to pull the money out my ass? also, he's very arrogant when he talks about poor people.get a persoanlity.i'm glad i bought this book used.\\n\",\n",
              " ' great planner with weak blades: i have only had this planner for a few weeks now, but the combination of the solid carriage and the fans assisted chip collection are great. when attached to my dust collection system i get almost no mess, except when planning some narrow edges. after attaching the folding tables i get no snipe at all. i think the planner was well worth the extra cost.my only gripe is the blades seem to be a bit brittle or weak. the first couple trys with hard maple gave a glass like finish, however, like another reviewer after only a few boards i am seeing ridges, probably caused by small nicks in the blades.overall i highly recommend this planner over anything else in its class.\\n']"
            ]
          },
          "metadata": {
            "tags": []
          },
          "execution_count": 112
        }
      ]
    },
    {
      "cell_type": "code",
      "metadata": {
        "id": "ZVpZdbQ3ZIi6"
      },
      "source": [
        "sentiment = train_labels"
      ],
      "execution_count": null,
      "outputs": []
    },
    {
      "cell_type": "code",
      "metadata": {
        "id": "wJqPxK0cZUHK",
        "outputId": "6a75dfc9-3128-4a81-da44-77fe55f4a1b0",
        "colab": {
          "base_uri": "https://localhost:8080/",
          "height": 34
        }
      },
      "source": [
        "sentiment[1:5]"
      ],
      "execution_count": null,
      "outputs": [
        {
          "output_type": "execute_result",
          "data": {
            "text/plain": [
              "['1', '0', '0', '1']"
            ]
          },
          "metadata": {
            "tags": []
          },
          "execution_count": 114
        }
      ]
    },
    {
      "cell_type": "markdown",
      "metadata": {
        "id": "UT-3Ko5_XKAm"
      },
      "source": [
        "### Generating Corpus"
      ]
    },
    {
      "cell_type": "code",
      "metadata": {
        "id": "PpWrI_VITcLS",
        "outputId": "8cfb92cf-60d2-4a22-c7b7-aaf8b331c766",
        "colab": {
          "base_uri": "https://localhost:8080/",
          "height": 50
        }
      },
      "source": [
        "import nltk\n",
        "nltk.download('punkt')\n",
        "from nltk.tokenize import sent_tokenize, word_tokenize\n",
        "from nltk.stem import PorterStemmer\n",
        "from nltk.stem import WordNetLemmatizer"
      ],
      "execution_count": null,
      "outputs": [
        {
          "output_type": "stream",
          "text": [
            "[nltk_data] Downloading package punkt to /root/nltk_data...\n",
            "[nltk_data]   Package punkt is already up-to-date!\n"
          ],
          "name": "stdout"
        }
      ]
    },
    {
      "cell_type": "code",
      "metadata": {
        "id": "K5AE-gZ9UJZR"
      },
      "source": [
        "corpus = []\n",
        "for i in range(len(review)):\n",
        "    corpus.append(word_tokenize(review[i]))"
      ],
      "execution_count": null,
      "outputs": []
    },
    {
      "cell_type": "code",
      "metadata": {
        "id": "VOdR3tsVbym6",
        "outputId": "126360ce-85d9-4b49-9e3e-48171b359d2b",
        "colab": {
          "base_uri": "https://localhost:8080/",
          "height": 34
        }
      },
      "source": [
        "len(corpus)"
      ],
      "execution_count": null,
      "outputs": [
        {
          "output_type": "execute_result",
          "data": {
            "text/plain": [
              "36000"
            ]
          },
          "metadata": {
            "tags": []
          },
          "execution_count": 116
        }
      ]
    },
    {
      "cell_type": "markdown",
      "metadata": {
        "id": "SsUZbnFVWqcw"
      },
      "source": [
        "### Fasttext for training word vectors and for Classification ( Accuracy 87.09% )"
      ]
    },
    {
      "cell_type": "code",
      "metadata": {
        "id": "fqprENyNUAwH"
      },
      "source": [
        "# Data Prep\n",
        "data = pd.DataFrame(train_data[0:36000])\n",
        "data.to_csv(\"train.txt\", index=False, sep=' ', header=False, quoting=csv.QUOTE_NONE, quotechar=\"\", escapechar=\" \")"
      ],
      "execution_count": null,
      "outputs": []
    },
    {
      "cell_type": "code",
      "metadata": {
        "id": "splIiRPaUr-P",
        "outputId": "2bfa944d-8e4d-4383-bea4-4c337e5ca5fa",
        "colab": {
          "base_uri": "https://localhost:8080/",
          "height": 34
        }
      },
      "source": [
        "import fasttext\n",
        "\n",
        "fasttext_model = fasttext.train_supervised('train.txt',label_prefix='__label__', thread=4, epoch = 10)\n",
        "print(fasttext_model.labels, 'are the labels or targets the model is predicting')"
      ],
      "execution_count": null,
      "outputs": [
        {
          "output_type": "stream",
          "text": [
            "['__label__2', '__label__1'] are the labels or targets the model is predicting\n"
          ],
          "name": "stdout"
        }
      ]
    },
    {
      "cell_type": "code",
      "metadata": {
        "id": "OCyFeINbVzqA"
      },
      "source": [
        "test = test_data[0:36000]\n",
        "\n",
        "# To run the predict function, we need to remove the __label__1 and __label__2 from the testset.  \n",
        "new = [w.replace('__label__2 ', '') for w in test]\n",
        "new = [w.replace('__label__1 ', '') for w in new]\n",
        "new = [w.replace('\\n', '') for w in new]"
      ],
      "execution_count": null,
      "outputs": []
    },
    {
      "cell_type": "code",
      "metadata": {
        "id": "CUmir4cuWCci"
      },
      "source": [
        "\n",
        "# Use the predict function \n",
        "pred = fasttext_model.predict(new)"
      ],
      "execution_count": null,
      "outputs": []
    },
    {
      "cell_type": "code",
      "metadata": {
        "id": "FFiZZQaYWK5M"
      },
      "source": [
        "# Lets recode the actual targets to 1's and 0's from both the test set and the actual predictions  \n",
        "labels = [0 if x.split(' ')[0] == '__label__1' else 1 for x in test]\n",
        "pred_labels = [0 if x == ['__label__1'] else 1 for x in pred[0]]"
      ],
      "execution_count": null,
      "outputs": []
    },
    {
      "cell_type": "code",
      "metadata": {
        "id": "eafB9WKIWbL0",
        "outputId": "100577d8-9f1d-4508-acb2-47b0f62805b8",
        "colab": {
          "base_uri": "https://localhost:8080/",
          "height": 34
        }
      },
      "source": [
        "from sklearn.metrics import roc_auc_score\n",
        "\n",
        "# run the accuracy measure. \n",
        "print(roc_auc_score(labels, pred_labels))"
      ],
      "execution_count": null,
      "outputs": [
        {
          "output_type": "stream",
          "text": [
            "0.8709266736771692\n"
          ],
          "name": "stdout"
        }
      ]
    },
    {
      "cell_type": "markdown",
      "metadata": {
        "id": "5o72tfeEW8mX"
      },
      "source": [
        "### Word2Vec for training word vectors and Naive Bayes for Classification ( Accuracy 69.31%)"
      ]
    },
    {
      "cell_type": "code",
      "metadata": {
        "id": "TyZFB7VZUwpa"
      },
      "source": [
        "#Creating word embedding for the words. Embedding dimension = 100\n",
        "model = Word2Vec(corpus, size=100, window=5, min_count=1)"
      ],
      "execution_count": null,
      "outputs": []
    },
    {
      "cell_type": "code",
      "metadata": {
        "id": "wZ6-3Ug3d9xB",
        "outputId": "256f6921-cf44-43f0-c00d-51642401bb00",
        "colab": {
          "base_uri": "https://localhost:8080/",
          "height": 1000
        }
      },
      "source": [
        "#Voabulary list\n",
        "model.wv.vocab"
      ],
      "execution_count": null,
      "outputs": [
        {
          "output_type": "execute_result",
          "data": {
            "text/plain": [
              "{'do': <gensim.models.keyedvectors.Vocab at 0x7f59be9f2cc0>,\n",
              " 'not': <gensim.models.keyedvectors.Vocab at 0x7f59c6b91748>,\n",
              " 'buy': <gensim.models.keyedvectors.Vocab at 0x7f59be99b9e8>,\n",
              " 'this': <gensim.models.keyedvectors.Vocab at 0x7f59be99ba20>,\n",
              " 'game': <gensim.models.keyedvectors.Vocab at 0x7f59be99ba58>,\n",
              " ':': <gensim.models.keyedvectors.Vocab at 0x7f59be99ba90>,\n",
              " 'one': <gensim.models.keyedvectors.Vocab at 0x7f59be99bac8>,\n",
              " 'of': <gensim.models.keyedvectors.Vocab at 0x7f59be99bb00>,\n",
              " 'the': <gensim.models.keyedvectors.Vocab at 0x7f59be99bb38>,\n",
              " 'worst': <gensim.models.keyedvectors.Vocab at 0x7f59be99bb70>,\n",
              " 'games': <gensim.models.keyedvectors.Vocab at 0x7f59be99bba8>,\n",
              " 'i': <gensim.models.keyedvectors.Vocab at 0x7f59be99bbe0>,\n",
              " 'have': <gensim.models.keyedvectors.Vocab at 0x7f59be99bc18>,\n",
              " 'ever': <gensim.models.keyedvectors.Vocab at 0x7f59be99bc50>,\n",
              " 'played': <gensim.models.keyedvectors.Vocab at 0x7f59be99bc88>,\n",
              " '.': <gensim.models.keyedvectors.Vocab at 0x7f59be99bcc0>,\n",
              " 'playstation2': <gensim.models.keyedvectors.Vocab at 0x7f59be99bcf8>,\n",
              " 'version': <gensim.models.keyedvectors.Vocab at 0x7f59be99bd30>,\n",
              " 'is': <gensim.models.keyedvectors.Vocab at 0x7f59be99bd68>,\n",
              " 'terrible': <gensim.models.keyedvectors.Vocab at 0x7f59be99bda0>,\n",
              " 'it': <gensim.models.keyedvectors.Vocab at 0x7f59be99bdd8>,\n",
              " 'works..': <gensim.models.keyedvectors.Vocab at 0x7f59be99be10>,\n",
              " 'did': <gensim.models.keyedvectors.Vocab at 0x7f59be99be48>,\n",
              " \"n't\": <gensim.models.keyedvectors.Vocab at 0x7f59be99be80>,\n",
              " 'spontaneously': <gensim.models.keyedvectors.Vocab at 0x7f59be99beb8>,\n",
              " 'combust': <gensim.models.keyedvectors.Vocab at 0x7f59be99bef0>,\n",
              " 'or': <gensim.models.keyedvectors.Vocab at 0x7f59be99bf28>,\n",
              " 'eat': <gensim.models.keyedvectors.Vocab at 0x7f59be99bf60>,\n",
              " 'dvds': <gensim.models.keyedvectors.Vocab at 0x7f59be99bf98>,\n",
              " 'definitely': <gensim.models.keyedvectors.Vocab at 0x7f59be99bfd0>,\n",
              " 'best': <gensim.models.keyedvectors.Vocab at 0x7f59be9a7048>,\n",
              " 'deal': <gensim.models.keyedvectors.Vocab at 0x7f59be9a7080>,\n",
              " 'found': <gensim.models.keyedvectors.Vocab at 0x7f59be9a70b8>,\n",
              " 'for': <gensim.models.keyedvectors.Vocab at 0x7f59be9a70f0>,\n",
              " 'a': <gensim.models.keyedvectors.Vocab at 0x7f59be9a7128>,\n",
              " 'large': <gensim.models.keyedvectors.Vocab at 0x7f59be9a7160>,\n",
              " 'capacity': <gensim.models.keyedvectors.Vocab at 0x7f59be9a7198>,\n",
              " 'wallet': <gensim.models.keyedvectors.Vocab at 0x7f59be9a71d0>,\n",
              " 'coating': <gensim.models.keyedvectors.Vocab at 0x7f59be9a7208>,\n",
              " 'came': <gensim.models.keyedvectors.Vocab at 0x7f59be9a7240>,\n",
              " 'off': <gensim.models.keyedvectors.Vocab at 0x7f59be9a7278>,\n",
              " 'anolon': <gensim.models.keyedvectors.Vocab at 0x7f59be9a72b0>,\n",
              " 'impressed': <gensim.models.keyedvectors.Vocab at 0x7f59be9a72e8>,\n",
              " 'with': <gensim.models.keyedvectors.Vocab at 0x7f59be9a7320>,\n",
              " 'in': <gensim.models.keyedvectors.Vocab at 0x7f59be9a7358>,\n",
              " 'no': <gensim.models.keyedvectors.Vocab at 0x7f59be9a7390>,\n",
              " 'time': <gensim.models.keyedvectors.Vocab at 0x7f59be9a73c8>,\n",
              " 'cook': <gensim.models.keyedvectors.Vocab at 0x7f59be9a7400>,\n",
              " 'evenly': <gensim.models.keyedvectors.Vocab at 0x7f59be9a7438>,\n",
              " 'through': <gensim.models.keyedvectors.Vocab at 0x7f59be9a7470>,\n",
              " 'away': <gensim.models.keyedvectors.Vocab at 0x7f59be9a74a8>,\n",
              " 'long': <gensim.models.keyedvectors.Vocab at 0x7f59be9a74e0>,\n",
              " 'ago': <gensim.models.keyedvectors.Vocab at 0x7f59be9a7518>,\n",
              " 'same': <gensim.models.keyedvectors.Vocab at 0x7f59be9a7550>,\n",
              " 'old': <gensim.models.keyedvectors.Vocab at 0x7f59be9a7588>,\n",
              " 'stuff': <gensim.models.keyedvectors.Vocab at 0x7f59be9a75c0>,\n",
              " 'everybody': <gensim.models.keyedvectors.Vocab at 0x7f59be9a75f8>,\n",
              " 'else': <gensim.models.keyedvectors.Vocab at 0x7f59be9a7630>,\n",
              " 'talks': <gensim.models.keyedvectors.Vocab at 0x7f59be9a7668>,\n",
              " 'about.you': <gensim.models.keyedvectors.Vocab at 0x7f59be9a76a0>,\n",
              " 'are': <gensim.models.keyedvectors.Vocab at 0x7f59be9a76d8>,\n",
              " 'what': <gensim.models.keyedvectors.Vocab at 0x7f59be9a7710>,\n",
              " 'you': <gensim.models.keyedvectors.Vocab at 0x7f59be9a7748>,\n",
              " 'think': <gensim.models.keyedvectors.Vocab at 0x7f59be9a7780>,\n",
              " 'and': <gensim.models.keyedvectors.Vocab at 0x7f59be9a77b8>,\n",
              " 'can': <gensim.models.keyedvectors.Vocab at 0x7f59be9a77f0>,\n",
              " 'anything': <gensim.models.keyedvectors.Vocab at 0x7f59be9a7828>,\n",
              " 'set': <gensim.models.keyedvectors.Vocab at 0x7f59be9a7860>,\n",
              " 'your': <gensim.models.keyedvectors.Vocab at 0x7f59be9a7898>,\n",
              " 'mind': <gensim.models.keyedvectors.Vocab at 0x7f59be9a78d0>,\n",
              " 'to': <gensim.models.keyedvectors.Vocab at 0x7f59be9a7908>,\n",
              " 'information': <gensim.models.keyedvectors.Vocab at 0x7f59be9a7940>,\n",
              " 'book': <gensim.models.keyedvectors.Vocab at 0x7f59be9a7978>,\n",
              " 'get': <gensim.models.keyedvectors.Vocab at 0x7f59be9a79b0>,\n",
              " 'that': <gensim.models.keyedvectors.Vocab at 0x7f59be9a79e8>,\n",
              " 'by': <gensim.models.keyedvectors.Vocab at 0x7f59be9a7a20>,\n",
              " 'wathching': <gensim.models.keyedvectors.Vocab at 0x7f59be9a7a58>,\n",
              " 'oprah': <gensim.models.keyedvectors.Vocab at 0x7f59be9a7a90>,\n",
              " 'free': <gensim.models.keyedvectors.Vocab at 0x7f59be9a7ac8>,\n",
              " 'smart': <gensim.models.keyedvectors.Vocab at 0x7f59be9a7b00>,\n",
              " 'ass': <gensim.models.keyedvectors.Vocab at 0x7f59be9a7b38>,\n",
              " 'comments': <gensim.models.keyedvectors.Vocab at 0x7f59be9a7b70>,\n",
              " 'about': <gensim.models.keyedvectors.Vocab at 0x7f59be9a7ba8>,\n",
              " 'poor': <gensim.models.keyedvectors.Vocab at 0x7f59be9a7be0>,\n",
              " 'people': <gensim.models.keyedvectors.Vocab at 0x7f59be9a7c18>,\n",
              " 'was': <gensim.models.keyedvectors.Vocab at 0x7f59be9a7c50>,\n",
              " 'hes': <gensim.models.keyedvectors.Vocab at 0x7f59be9a7c88>,\n",
              " 'just': <gensim.models.keyedvectors.Vocab at 0x7f59be9a7cc0>,\n",
              " 'another': <gensim.models.keyedvectors.Vocab at 0x7f59be9a7cf8>,\n",
              " 'person': <gensim.models.keyedvectors.Vocab at 0x7f59be9a7d30>,\n",
              " 'happened': <gensim.models.keyedvectors.Vocab at 0x7f59be9a7d68>,\n",
              " 'rich': <gensim.models.keyedvectors.Vocab at 0x7f59be9a7da0>,\n",
              " 'because': <gensim.models.keyedvectors.Vocab at 0x7f59be9a7dd8>,\n",
              " 'he': <gensim.models.keyedvectors.Vocab at 0x7f59be9a7e10>,\n",
              " 'figured': <gensim.models.keyedvectors.Vocab at 0x7f59be9a7e48>,\n",
              " 'out': <gensim.models.keyedvectors.Vocab at 0x7f59be9a7e80>,\n",
              " 'how': <gensim.models.keyedvectors.Vocab at 0x7f59be9a7eb8>,\n",
              " 'scam': <gensim.models.keyedvectors.Vocab at 0x7f59be9a7ef0>,\n",
              " 'money': <gensim.models.keyedvectors.Vocab at 0x7f59be9a7f28>,\n",
              " 'at': <gensim.models.keyedvectors.Vocab at 0x7f59be9a7f60>,\n",
              " 'his': <gensim.models.keyedvectors.Vocab at 0x7f59be9a7f98>,\n",
              " 'semianrs.he': <gensim.models.keyedvectors.Vocab at 0x7f59be9a7fd0>,\n",
              " 'makes': <gensim.models.keyedvectors.Vocab at 0x7f59be9a6048>,\n",
              " 'sound': <gensim.models.keyedvectors.Vocab at 0x7f59be9a6080>,\n",
              " 'like': <gensim.models.keyedvectors.Vocab at 0x7f59be9a60b8>,\n",
              " 'start': <gensim.models.keyedvectors.Vocab at 0x7f59be9a60f0>,\n",
              " 'big': <gensim.models.keyedvectors.Vocab at 0x7f59be9a6128>,\n",
              " 'business': <gensim.models.keyedvectors.Vocab at 0x7f59be9a6160>,\n",
              " 'even': <gensim.models.keyedvectors.Vocab at 0x7f59be9a6198>,\n",
              " 'if': <gensim.models.keyedvectors.Vocab at 0x7f59be9a61d0>,\n",
              " 'they': <gensim.models.keyedvectors.Vocab at 0x7f59be9a6208>,\n",
              " ',': <gensim.models.keyedvectors.Vocab at 0x7f59be9a6240>,\n",
              " 'so..i': <gensim.models.keyedvectors.Vocab at 0x7f59be9a6278>,\n",
              " 'want': <gensim.models.keyedvectors.Vocab at 0x7f59be9a62b0>,\n",
              " 'flipping': <gensim.models.keyedvectors.Vocab at 0x7f59be9a62e8>,\n",
              " 'houses': <gensim.models.keyedvectors.Vocab at 0x7f59be9a6320>,\n",
              " 'live': <gensim.models.keyedvectors.Vocab at 0x7f59be9a6358>,\n",
              " 'pay': <gensim.models.keyedvectors.Vocab at 0x7f59be9a6390>,\n",
              " 'check': <gensim.models.keyedvectors.Vocab at 0x7f59be9a63c8>,\n",
              " 'am': <gensim.models.keyedvectors.Vocab at 0x7f59be9a6400>,\n",
              " 'suppose': <gensim.models.keyedvectors.Vocab at 0x7f59be9a6438>,\n",
              " 'pull': <gensim.models.keyedvectors.Vocab at 0x7f59be9a6470>,\n",
              " 'my': <gensim.models.keyedvectors.Vocab at 0x7f59be9a64a8>,\n",
              " '?': <gensim.models.keyedvectors.Vocab at 0x7f59be9a64e0>,\n",
              " 'also': <gensim.models.keyedvectors.Vocab at 0x7f59be9a6518>,\n",
              " \"'s\": <gensim.models.keyedvectors.Vocab at 0x7f59be9a6550>,\n",
              " 'very': <gensim.models.keyedvectors.Vocab at 0x7f59be9a6588>,\n",
              " 'arrogant': <gensim.models.keyedvectors.Vocab at 0x7f59be9a65c0>,\n",
              " 'when': <gensim.models.keyedvectors.Vocab at 0x7f59be9a65f8>,\n",
              " 'people.get': <gensim.models.keyedvectors.Vocab at 0x7f59be9a6630>,\n",
              " 'persoanlity.i': <gensim.models.keyedvectors.Vocab at 0x7f59be9a6668>,\n",
              " \"'m\": <gensim.models.keyedvectors.Vocab at 0x7f59be9a66a0>,\n",
              " 'glad': <gensim.models.keyedvectors.Vocab at 0x7f59be9a66d8>,\n",
              " 'bought': <gensim.models.keyedvectors.Vocab at 0x7f59be9a6710>,\n",
              " 'used': <gensim.models.keyedvectors.Vocab at 0x7f59be9a6748>,\n",
              " 'great': <gensim.models.keyedvectors.Vocab at 0x7f59be9a6780>,\n",
              " 'planner': <gensim.models.keyedvectors.Vocab at 0x7f59be9a67b8>,\n",
              " 'weak': <gensim.models.keyedvectors.Vocab at 0x7f59be9a67f0>,\n",
              " 'blades': <gensim.models.keyedvectors.Vocab at 0x7f59be9a6828>,\n",
              " 'only': <gensim.models.keyedvectors.Vocab at 0x7f59be9a6860>,\n",
              " 'had': <gensim.models.keyedvectors.Vocab at 0x7f59be9a6898>,\n",
              " 'few': <gensim.models.keyedvectors.Vocab at 0x7f59be9a68d0>,\n",
              " 'weeks': <gensim.models.keyedvectors.Vocab at 0x7f59be9a6908>,\n",
              " 'now': <gensim.models.keyedvectors.Vocab at 0x7f59be9a6940>,\n",
              " 'but': <gensim.models.keyedvectors.Vocab at 0x7f59be9a6978>,\n",
              " 'combination': <gensim.models.keyedvectors.Vocab at 0x7f59be9a69b0>,\n",
              " 'solid': <gensim.models.keyedvectors.Vocab at 0x7f59be9a69e8>,\n",
              " 'carriage': <gensim.models.keyedvectors.Vocab at 0x7f59be9a6a20>,\n",
              " 'fans': <gensim.models.keyedvectors.Vocab at 0x7f59be9a6a58>,\n",
              " 'assisted': <gensim.models.keyedvectors.Vocab at 0x7f59be9a6a90>,\n",
              " 'chip': <gensim.models.keyedvectors.Vocab at 0x7f59be9a6ac8>,\n",
              " 'collection': <gensim.models.keyedvectors.Vocab at 0x7f59be9a6b00>,\n",
              " 'attached': <gensim.models.keyedvectors.Vocab at 0x7f59be9a6b38>,\n",
              " 'dust': <gensim.models.keyedvectors.Vocab at 0x7f59be9a6b70>,\n",
              " 'system': <gensim.models.keyedvectors.Vocab at 0x7f59be9a6ba8>,\n",
              " 'almost': <gensim.models.keyedvectors.Vocab at 0x7f59be9a6be0>,\n",
              " 'mess': <gensim.models.keyedvectors.Vocab at 0x7f59be9a6c18>,\n",
              " 'except': <gensim.models.keyedvectors.Vocab at 0x7f59be9a6c50>,\n",
              " 'planning': <gensim.models.keyedvectors.Vocab at 0x7f59be9a6c88>,\n",
              " 'some': <gensim.models.keyedvectors.Vocab at 0x7f59be9a6cc0>,\n",
              " 'narrow': <gensim.models.keyedvectors.Vocab at 0x7f59be9a6cf8>,\n",
              " 'edges': <gensim.models.keyedvectors.Vocab at 0x7f59be9a6d30>,\n",
              " 'after': <gensim.models.keyedvectors.Vocab at 0x7f59be9a6d68>,\n",
              " 'attaching': <gensim.models.keyedvectors.Vocab at 0x7f59be9a6da0>,\n",
              " 'folding': <gensim.models.keyedvectors.Vocab at 0x7f59be9a6dd8>,\n",
              " 'tables': <gensim.models.keyedvectors.Vocab at 0x7f59be9a6e10>,\n",
              " 'snipe': <gensim.models.keyedvectors.Vocab at 0x7f59be9a6e48>,\n",
              " 'all': <gensim.models.keyedvectors.Vocab at 0x7f59be9a6e80>,\n",
              " 'well': <gensim.models.keyedvectors.Vocab at 0x7f59be9a6eb8>,\n",
              " 'worth': <gensim.models.keyedvectors.Vocab at 0x7f59be9a6ef0>,\n",
              " 'extra': <gensim.models.keyedvectors.Vocab at 0x7f59be9a6f28>,\n",
              " 'cost.my': <gensim.models.keyedvectors.Vocab at 0x7f59be9a6f60>,\n",
              " 'gripe': <gensim.models.keyedvectors.Vocab at 0x7f59be9a6f98>,\n",
              " 'seem': <gensim.models.keyedvectors.Vocab at 0x7f59be9a6fd0>,\n",
              " 'be': <gensim.models.keyedvectors.Vocab at 0x7f59be9a9048>,\n",
              " 'bit': <gensim.models.keyedvectors.Vocab at 0x7f59be9a9080>,\n",
              " 'brittle': <gensim.models.keyedvectors.Vocab at 0x7f59be9a90b8>,\n",
              " 'first': <gensim.models.keyedvectors.Vocab at 0x7f59be9a90f0>,\n",
              " 'couple': <gensim.models.keyedvectors.Vocab at 0x7f59be9a9128>,\n",
              " 'trys': <gensim.models.keyedvectors.Vocab at 0x7f59be9a9160>,\n",
              " 'hard': <gensim.models.keyedvectors.Vocab at 0x7f59be9a9198>,\n",
              " 'maple': <gensim.models.keyedvectors.Vocab at 0x7f59be9a91d0>,\n",
              " 'gave': <gensim.models.keyedvectors.Vocab at 0x7f59be9a9208>,\n",
              " 'glass': <gensim.models.keyedvectors.Vocab at 0x7f59be9a9240>,\n",
              " 'finish': <gensim.models.keyedvectors.Vocab at 0x7f59be9a9278>,\n",
              " 'however': <gensim.models.keyedvectors.Vocab at 0x7f59be9a92b0>,\n",
              " 'reviewer': <gensim.models.keyedvectors.Vocab at 0x7f59be9a92e8>,\n",
              " 'boards': <gensim.models.keyedvectors.Vocab at 0x7f59be9a9320>,\n",
              " 'seeing': <gensim.models.keyedvectors.Vocab at 0x7f59be9a9358>,\n",
              " 'ridges': <gensim.models.keyedvectors.Vocab at 0x7f59be9a9390>,\n",
              " 'probably': <gensim.models.keyedvectors.Vocab at 0x7f59be9a93c8>,\n",
              " 'caused': <gensim.models.keyedvectors.Vocab at 0x7f59be9a9400>,\n",
              " 'small': <gensim.models.keyedvectors.Vocab at 0x7f59be9a9438>,\n",
              " 'nicks': <gensim.models.keyedvectors.Vocab at 0x7f59be9a9470>,\n",
              " 'blades.overall': <gensim.models.keyedvectors.Vocab at 0x7f59be9a94a8>,\n",
              " 'highly': <gensim.models.keyedvectors.Vocab at 0x7f59be9a94e0>,\n",
              " 'recommend': <gensim.models.keyedvectors.Vocab at 0x7f59be9a9518>,\n",
              " 'over': <gensim.models.keyedvectors.Vocab at 0x7f59be9a9550>,\n",
              " 'its': <gensim.models.keyedvectors.Vocab at 0x7f59be9a9588>,\n",
              " 'class': <gensim.models.keyedvectors.Vocab at 0x7f59be9a95c0>,\n",
              " 'canon': <gensim.models.keyedvectors.Vocab at 0x7f59be9a95f8>,\n",
              " 'psc-55': <gensim.models.keyedvectors.Vocab at 0x7f59be9a9630>,\n",
              " 'an': <gensim.models.keyedvectors.Vocab at 0x7f59be9a9668>,\n",
              " 'excellent': <gensim.models.keyedvectors.Vocab at 0x7f59be9a96a0>,\n",
              " 'case': <gensim.models.keyedvectors.Vocab at 0x7f59be9a96d8>,\n",
              " 'sd': <gensim.models.keyedvectors.Vocab at 0x7f59be9a9710>,\n",
              " '870': <gensim.models.keyedvectors.Vocab at 0x7f59be9a9748>,\n",
              " 'fits': <gensim.models.keyedvectors.Vocab at 0x7f59be9a9780>,\n",
              " 'camera': <gensim.models.keyedvectors.Vocab at 0x7f59be9a97b8>,\n",
              " 'as': <gensim.models.keyedvectors.Vocab at 0x7f59be9a97f0>,\n",
              " 'glove': <gensim.models.keyedvectors.Vocab at 0x7f59be9a9828>,\n",
              " 'leather': <gensim.models.keyedvectors.Vocab at 0x7f59be9a9860>,\n",
              " 'series': <gensim.models.keyedvectors.Vocab at 0x7f59be9a9898>,\n",
              " 'american': <gensim.models.keyedvectors.Vocab at 0x7f59be9a98d0>,\n",
              " 'standard': <gensim.models.keyedvectors.Vocab at 0x7f59be9a9908>,\n",
              " 'tub': <gensim.models.keyedvectors.Vocab at 0x7f59be9a9940>,\n",
              " 'ordered': <gensim.models.keyedvectors.Vocab at 0x7f59be9a9978>,\n",
              " 'around': <gensim.models.keyedvectors.Vocab at 0x7f59be9a99b0>,\n",
              " 'new': <gensim.models.keyedvectors.Vocab at 0x7f59be9a99e8>,\n",
              " 'years': <gensim.models.keyedvectors.Vocab at 0x7f59be9a9a20>,\n",
              " 'told': <gensim.models.keyedvectors.Vocab at 0x7f59be9a9a58>,\n",
              " 'would': <gensim.models.keyedvectors.Vocab at 0x7f59be9a9a90>,\n",
              " 'me': <gensim.models.keyedvectors.Vocab at 0x7f59be9a9ac8>,\n",
              " 'until': <gensim.models.keyedvectors.Vocab at 0x7f59be9a9b00>,\n",
              " '01/15/13': <gensim.models.keyedvectors.Vocab at 0x7f59be9a9b38>,\n",
              " 'arrived': <gensim.models.keyedvectors.Vocab at 0x7f59be9a9b70>,\n",
              " 'today': <gensim.models.keyedvectors.Vocab at 0x7f59be9a9ba8>,\n",
              " '01/08/13': <gensim.models.keyedvectors.Vocab at 0x7f59be9a9be0>,\n",
              " 'week': <gensim.models.keyedvectors.Vocab at 0x7f59be9a9c18>,\n",
              " 'early': <gensim.models.keyedvectors.Vocab at 0x7f59be9a9c50>,\n",
              " 'always': <gensim.models.keyedvectors.Vocab at 0x7f59be9a9c88>,\n",
              " 'better': <gensim.models.keyedvectors.Vocab at 0x7f59be9a9cc0>,\n",
              " 'than': <gensim.models.keyedvectors.Vocab at 0x7f59be9a9cf8>,\n",
              " 'late': <gensim.models.keyedvectors.Vocab at 0x7f59be9a9d30>,\n",
              " '!': <gensim.models.keyedvectors.Vocab at 0x7f59be9a9d68>,\n",
              " 'freight': <gensim.models.keyedvectors.Vocab at 0x7f59be9a9da0>,\n",
              " 'company': <gensim.models.keyedvectors.Vocab at 0x7f59be9a9dd8>,\n",
              " 'called': <gensim.models.keyedvectors.Vocab at 0x7f59be9a9e10>,\n",
              " 'day': <gensim.models.keyedvectors.Vocab at 0x7f59be9a9e48>,\n",
              " 'before': <gensim.models.keyedvectors.Vocab at 0x7f59be9a9e80>,\n",
              " 'let': <gensim.models.keyedvectors.Vocab at 0x7f59be9a9eb8>,\n",
              " 'know': <gensim.models.keyedvectors.Vocab at 0x7f59be9a9ef0>,\n",
              " 'going': <gensim.models.keyedvectors.Vocab at 0x7f59be9a9f28>,\n",
              " 'delivered': <gensim.models.keyedvectors.Vocab at 0x7f59be9a9f60>,\n",
              " 'next': <gensim.models.keyedvectors.Vocab at 0x7f59be9a9f98>,\n",
              " '20': <gensim.models.keyedvectors.Vocab at 0x7f59be9a9fd0>,\n",
              " 'minutes': <gensim.models.keyedvectors.Vocab at 0x7f59be9ac048>,\n",
              " 'delivery': <gensim.models.keyedvectors.Vocab at 0x7f59be9ac080>,\n",
              " 'driver': <gensim.models.keyedvectors.Vocab at 0x7f59be9ac0b8>,\n",
              " 'close': <gensim.models.keyedvectors.Vocab at 0x7f59be9ac0f0>,\n",
              " 'house': <gensim.models.keyedvectors.Vocab at 0x7f59be9ac128>,\n",
              " 'make': <gensim.models.keyedvectors.Vocab at 0x7f59be9ac160>,\n",
              " 'sure': <gensim.models.keyedvectors.Vocab at 0x7f59be9ac198>,\n",
              " 'there': <gensim.models.keyedvectors.Vocab at 0x7f59be9ac1d0>,\n",
              " 'talking': <gensim.models.keyedvectors.Vocab at 0x7f59be9ac208>,\n",
              " 'helpful': <gensim.models.keyedvectors.Vocab at 0x7f59be9ac240>,\n",
              " 'putting': <gensim.models.keyedvectors.Vocab at 0x7f59be9ac278>,\n",
              " 'where': <gensim.models.keyedvectors.Vocab at 0x7f59be9ac2b0>,\n",
              " 'wanted': <gensim.models.keyedvectors.Vocab at 0x7f59be9ac2e8>,\n",
              " 'purchase': <gensim.models.keyedvectors.Vocab at 0x7f59be9ac320>,\n",
              " 'anyone': <gensim.models.keyedvectors.Vocab at 0x7f59be9ac358>,\n",
              " 'interested': <gensim.models.keyedvectors.Vocab at 0x7f59be9ac390>,\n",
              " 'purshase': <gensim.models.keyedvectors.Vocab at 0x7f59be9ac3c8>,\n",
              " 'from': <gensim.models.keyedvectors.Vocab at 0x7f59be9ac400>,\n",
              " 'amazon': <gensim.models.keyedvectors.Vocab at 0x7f59be9ac438>,\n",
              " '(': <gensim.models.keyedvectors.Vocab at 0x7f59be9ac470>,\n",
              " 'contractors': <gensim.models.keyedvectors.Vocab at 0x7f59be9ac4a8>,\n",
              " ')': <gensim.models.keyedvectors.Vocab at 0x7f59be9ac4e0>,\n",
              " 'experience': <gensim.models.keyedvectors.Vocab at 0x7f59be9ac518>,\n",
              " 'thanks': <gensim.models.keyedvectors.Vocab at 0x7f59be9ac550>,\n",
              " 'soft': <gensim.models.keyedvectors.Vocab at 0x7f59be9ac588>,\n",
              " 'richochet': <gensim.models.keyedvectors.Vocab at 0x7f59be9ac5c0>,\n",
              " 'mints': <gensim.models.keyedvectors.Vocab at 0x7f59be9ac5f8>,\n",
              " 'so': <gensim.models.keyedvectors.Vocab at 0x7f59be9ac630>,\n",
              " 'them': <gensim.models.keyedvectors.Vocab at 0x7f59be9ac668>,\n",
              " 'sucked': <gensim.models.keyedvectors.Vocab at 0x7f59be9ac6a0>,\n",
              " 'softness': <gensim.models.keyedvectors.Vocab at 0x7f59be9ac6d8>,\n",
              " 'utter': <gensim.models.keyedvectors.Vocab at 0x7f59be9ac710>,\n",
              " 'crap': <gensim.models.keyedvectors.Vocab at 0x7f59be9ac748>,\n",
              " 'rolling': <gensim.models.keyedvectors.Vocab at 0x7f59be9ac780>,\n",
              " 'stone': <gensim.models.keyedvectors.Vocab at 0x7f59be9ac7b8>,\n",
              " 'takes': <gensim.models.keyedvectors.Vocab at 0x7f59be9ac7f0>,\n",
              " 'itself': <gensim.models.keyedvectors.Vocab at 0x7f59be9ac828>,\n",
              " 'way': <gensim.models.keyedvectors.Vocab at 0x7f59be9ac860>,\n",
              " 'too': <gensim.models.keyedvectors.Vocab at 0x7f59be9ac898>,\n",
              " 'seriously': <gensim.models.keyedvectors.Vocab at 0x7f59be9ac8d0>,\n",
              " 'magazine': <gensim.models.keyedvectors.Vocab at 0x7f59be9ac908>,\n",
              " 'entertainment': <gensim.models.keyedvectors.Vocab at 0x7f59be9ac940>,\n",
              " 'industry': <gensim.models.keyedvectors.Vocab at 0x7f59be9ac978>,\n",
              " 'least': <gensim.models.keyedvectors.Vocab at 0x7f59be9ac9b0>,\n",
              " '``': <gensim.models.keyedvectors.Vocab at 0x7f59be9ac9e8>,\n",
              " 'us': <gensim.models.keyedvectors.Vocab at 0x7f59be9aca20>,\n",
              " \"''\": <gensim.models.keyedvectors.Vocab at 0x7f59be9aca58>,\n",
              " 'their': <gensim.models.keyedvectors.Vocab at 0x7f59be9aca90>,\n",
              " 'limits.beyond': <gensim.models.keyedvectors.Vocab at 0x7f59be9acac8>,\n",
              " \"'ve\": <gensim.models.keyedvectors.Vocab at 0x7f59be9acb00>,\n",
              " 'turned': <gensim.models.keyedvectors.Vocab at 0x7f59be9acb38>,\n",
              " 'into': <gensim.models.keyedvectors.Vocab at 0x7f59be9acb70>,\n",
              " 'complete': <gensim.models.keyedvectors.Vocab at 0x7f59be9acba8>,\n",
              " 'pop': <gensim.models.keyedvectors.Vocab at 0x7f59be9acbe0>,\n",
              " 'journalism': <gensim.models.keyedvectors.Vocab at 0x7f59be9acc18>,\n",
              " 'stories': <gensim.models.keyedvectors.Vocab at 0x7f59be9acc50>,\n",
              " 'stale': <gensim.models.keyedvectors.Vocab at 0x7f59be9acc88>,\n",
              " 'topics': <gensim.models.keyedvectors.Vocab at 0x7f59be9accc0>,\n",
              " 'been': <gensim.models.keyedvectors.Vocab at 0x7f59be9accf8>,\n",
              " 'covered': <gensim.models.keyedvectors.Vocab at 0x7f59be9acd30>,\n",
              " 'other': <gensim.models.keyedvectors.Vocab at 0x7f59be9acd68>,\n",
              " 'magazines': <gensim.models.keyedvectors.Vocab at 0x7f59be9acda0>,\n",
              " 'months': <gensim.models.keyedvectors.Vocab at 0x7f59be9acdd8>,\n",
              " 'them.for': <gensim.models.keyedvectors.Vocab at 0x7f59be9ace10>,\n",
              " 'example': <gensim.models.keyedvectors.Vocab at 0x7f59be9ace48>,\n",
              " 'writing': <gensim.models.keyedvectors.Vocab at 0x7f59be9ace80>,\n",
              " 'review': <gensim.models.keyedvectors.Vocab at 0x7f59be9aceb8>,\n",
              " 'dec.': <gensim.models.keyedvectors.Vocab at 0x7f59be9acef0>,\n",
              " '2003': <gensim.models.keyedvectors.Vocab at 0x7f59be9acf28>,\n",
              " 'cover': <gensim.models.keyedvectors.Vocab at 0x7f59be9acf60>,\n",
              " 'has': <gensim.models.keyedvectors.Vocab at 0x7f59be9acf98>,\n",
              " 'brittney': <gensim.models.keyedvectors.Vocab at 0x7f59be9acfd0>,\n",
              " 'on': <gensim.models.keyedvectors.Vocab at 0x7f59be9ae048>,\n",
              " 'who': <gensim.models.keyedvectors.Vocab at 0x7f59be9ae080>,\n",
              " 'ask': <gensim.models.keyedvectors.Vocab at 0x7f59be9ae0b8>,\n",
              " 'her': <gensim.models.keyedvectors.Vocab at 0x7f59be9ae0f0>,\n",
              " 'career': <gensim.models.keyedvectors.Vocab at 0x7f59be9ae128>,\n",
              " 'already': <gensim.models.keyedvectors.Vocab at 0x7f59be9ae160>,\n",
              " 'decline': <gensim.models.keyedvectors.Vocab at 0x7f59be9ae198>,\n",
              " 'features': <gensim.models.keyedvectors.Vocab at 0x7f59be9ae1d0>,\n",
              " 'half-nude': <gensim.models.keyedvectors.Vocab at 0x7f59be9ae208>,\n",
              " 'cover.let': <gensim.models.keyedvectors.Vocab at 0x7f59be9ae240>,\n",
              " 'ignore': <gensim.models.keyedvectors.Vocab at 0x7f59be9ae278>,\n",
              " 'up': <gensim.models.keyedvectors.Vocab at 0x7f59be9ae2b0>,\n",
              " 'coming': <gensim.models.keyedvectors.Vocab at 0x7f59be9ae2e8>,\n",
              " 'bands': <gensim.models.keyedvectors.Vocab at 0x7f59be9ae320>,\n",
              " 'talent': <gensim.models.keyedvectors.Vocab at 0x7f59be9ae358>,\n",
              " 'state': <gensim.models.keyedvectors.Vocab at 0x7f59be9ae390>,\n",
              " 'music': <gensim.models.keyedvectors.Vocab at 0x7f59be9ae3c8>,\n",
              " 'scene': <gensim.models.keyedvectors.Vocab at 0x7f59be9ae400>,\n",
              " 'instead': <gensim.models.keyedvectors.Vocab at 0x7f59be9ae438>,\n",
              " 'indulge': <gensim.models.keyedvectors.Vocab at 0x7f59be9ae470>,\n",
              " 'try': <gensim.models.keyedvectors.Vocab at 0x7f59be9ae4a8>,\n",
              " 'write': <gensim.models.keyedvectors.Vocab at 0x7f59be9ae4e0>,\n",
              " 'unskilled': <gensim.models.keyedvectors.Vocab at 0x7f59be9ae518>,\n",
              " 'articles': <gensim.models.keyedvectors.Vocab at 0x7f59be9ae550>,\n",
              " 'politics': <gensim.models.keyedvectors.Vocab at 0x7f59be9ae588>,\n",
              " 'things': <gensim.models.keyedvectors.Vocab at 0x7f59be9ae5c0>,\n",
              " 'nothing': <gensim.models.keyedvectors.Vocab at 0x7f59be9ae5f8>,\n",
              " 'music.when': <gensim.models.keyedvectors.Vocab at 0x7f59be9ae630>,\n",
              " 'news': <gensim.models.keyedvectors.Vocab at 0x7f59be9ae668>,\n",
              " \"'ll\": <gensim.models.keyedvectors.Vocab at 0x7f59be9ae6a0>,\n",
              " 'read': <gensim.models.keyedvectors.Vocab at 0x7f59be9ae6d8>,\n",
              " 'nyt': <gensim.models.keyedvectors.Vocab at 0x7f59be9ae710>,\n",
              " 'wsj': <gensim.models.keyedvectors.Vocab at 0x7f59be9ae748>,\n",
              " 'look': <gensim.models.keyedvectors.Vocab at 0x7f59be9ae780>,\n",
              " 'elsewhere': <gensim.models.keyedvectors.Vocab at 0x7f59be9ae7b8>,\n",
              " 'low-intellect': <gensim.models.keyedvectors.Vocab at 0x7f59be9ae7f0>,\n",
              " 'pretentious': <gensim.models.keyedvectors.Vocab at 0x7f59be9ae828>,\n",
              " 'will': <gensim.models.keyedvectors.Vocab at 0x7f59be9ae860>,\n",
              " 'pick': <gensim.models.keyedvectors.Vocab at 0x7f59be9ae898>,\n",
              " 'full-color': <gensim.models.keyedvectors.Vocab at 0x7f59be9ae8d0>,\n",
              " 'bird': <gensim.models.keyedvectors.Vocab at 0x7f59be9ae908>,\n",
              " 'cage': <gensim.models.keyedvectors.Vocab at 0x7f59be9ae940>,\n",
              " 'liner': <gensim.models.keyedvectors.Vocab at 0x7f59be9ae978>,\n",
              " 'bad': <gensim.models.keyedvectors.Vocab at 0x7f59be9ae9b0>,\n",
              " 'poorly': <gensim.models.keyedvectors.Vocab at 0x7f59be9ae9e8>,\n",
              " 'researched': <gensim.models.keyedvectors.Vocab at 0x7f59be9aea20>,\n",
              " 'started': <gensim.models.keyedvectors.Vocab at 0x7f59be9aea58>,\n",
              " 'ok.': <gensim.models.keyedvectors.Vocab at 0x7f59be9aea90>,\n",
              " 'we': <gensim.models.keyedvectors.Vocab at 0x7f59be9aeac8>,\n",
              " \"'re\": <gensim.models.keyedvectors.Vocab at 0x7f59be9aeb00>,\n",
              " 'brought': <gensim.models.keyedvectors.Vocab at 0x7f59be9aeb38>,\n",
              " 'end': <gensim.models.keyedvectors.Vocab at 0x7f59be9aeb70>,\n",
              " 'trail': <gensim.models.keyedvectors.Vocab at 0x7f59be9aeba8>,\n",
              " 'prelude': <gensim.models.keyedvectors.Vocab at 0x7f59be9aebe0>,\n",
              " 'different': <gensim.models.keyedvectors.Vocab at 0x7f59be9aec18>,\n",
              " 'type': <gensim.models.keyedvectors.Vocab at 0x7f59be9aec50>,\n",
              " 'rapidly': <gensim.models.keyedvectors.Vocab at 0x7f59be9aec88>,\n",
              " 'goes': <gensim.models.keyedvectors.Vocab at 0x7f59be9aecc0>,\n",
              " 'downhill': <gensim.models.keyedvectors.Vocab at 0x7f59be9aecf8>,\n",
              " 'reviews': <gensim.models.keyedvectors.Vocab at 0x7f59be9aed30>,\n",
              " 'most': <gensim.models.keyedvectors.Vocab at 0x7f59be9aed68>,\n",
              " 'stupidity': <gensim.models.keyedvectors.Vocab at 0x7f59be9aeda0>,\n",
              " 'lets': <gensim.models.keyedvectors.Vocab at 0x7f59be9aedd8>,\n",
              " 'assault': <gensim.models.keyedvectors.Vocab at 0x7f59be9aee10>,\n",
              " 'part': <gensim.models.keyedvectors.Vocab at 0x7f59be9aee48>,\n",
              " 'wouldnt': <gensim.models.keyedvectors.Vocab at 0x7f59be9aee80>,\n",
              " 'take': <gensim.models.keyedvectors.Vocab at 0x7f59be9aeeb8>,\n",
              " 'much': <gensim.models.keyedvectors.Vocab at 0x7f59be9aeef0>,\n",
              " 'learn': <gensim.models.keyedvectors.Vocab at 0x7f59be9aef28>,\n",
              " 'spectre': <gensim.models.keyedvectors.Vocab at 0x7f59be9aef60>,\n",
              " 'gunship': <gensim.models.keyedvectors.Vocab at 0x7f59be9aef98>,\n",
              " 'actually': <gensim.models.keyedvectors.Vocab at 0x7f59be9aefd0>,\n",
              " '4-engined': <gensim.models.keyedvectors.Vocab at 0x7f59be9b1048>,\n",
              " 'c-130': <gensim.models.keyedvectors.Vocab at 0x7f59be9b1080>,\n",
              " '20mm': <gensim.models.keyedvectors.Vocab at 0x7f59be9b10b8>,\n",
              " '7.62mm': <gensim.models.keyedvectors.Vocab at 0x7f59be9b10f0>,\n",
              " 'gatling': <gensim.models.keyedvectors.Vocab at 0x7f59be9b1128>,\n",
              " 'guns': <gensim.models.keyedvectors.Vocab at 0x7f59be9b1160>,\n",
              " 'fire': <gensim.models.keyedvectors.Vocab at 0x7f59be9b1198>,\n",
              " 'side': <gensim.models.keyedvectors.Vocab at 0x7f59be9b11d0>,\n",
              " 'aircraft': <gensim.models.keyedvectors.Vocab at 0x7f59be9b1208>,\n",
              " 'theres': <gensim.models.keyedvectors.Vocab at 0x7f59be9b1240>,\n",
              " '105mm': <gensim.models.keyedvectors.Vocab at 0x7f59be9b1278>,\n",
              " 'howitzer': <gensim.models.keyedvectors.Vocab at 0x7f59be9b12b0>,\n",
              " 'nose': <gensim.models.keyedvectors.Vocab at 0x7f59be9b12e8>,\n",
              " 'these': <gensim.models.keyedvectors.Vocab at 0x7f59be9b1320>,\n",
              " 'helicopters': <gensim.models.keyedvectors.Vocab at 0x7f59be9b1358>,\n",
              " 'none': <gensim.models.keyedvectors.Vocab at 0x7f59be9b1390>,\n",
              " 'weapons': <gensim.models.keyedvectors.Vocab at 0x7f59be9b13c8>,\n",
              " 'detachable': <gensim.models.keyedvectors.Vocab at 0x7f59be9b1400>,\n",
              " 'anyway': <gensim.models.keyedvectors.Vocab at 0x7f59be9b1438>,\n",
              " 'usable': <gensim.models.keyedvectors.Vocab at 0x7f59be9b1470>,\n",
              " 'pulling': <gensim.models.keyedvectors.Vocab at 0x7f59be9b14a8>,\n",
              " 'mounts': <gensim.models.keyedvectors.Vocab at 0x7f59be9b14e0>,\n",
              " 'electricaly': <gensim.models.keyedvectors.Vocab at 0x7f59be9b1518>,\n",
              " 'powered': <gensim.models.keyedvectors.Vocab at 0x7f59be9b1550>,\n",
              " 'primed': <gensim.models.keyedvectors.Vocab at 0x7f59be9b1588>,\n",
              " 'sgt': <gensim.models.keyedvectors.Vocab at 0x7f59be9b15c0>,\n",
              " 'williams': <gensim.models.keyedvectors.Vocab at 0x7f59be9b15f8>,\n",
              " 'could': <gensim.models.keyedvectors.Vocab at 0x7f59be9b1630>,\n",
              " 'hold': <gensim.models.keyedvectors.Vocab at 0x7f59be9b1668>,\n",
              " 'arent': <gensim.models.keyedvectors.Vocab at 0x7f59be9b16a0>,\n",
              " 'hand': <gensim.models.keyedvectors.Vocab at 0x7f59be9b16d8>,\n",
              " 'strategy': <gensim.models.keyedvectors.Vocab at 0x7f59be9b1710>,\n",
              " 'hope': <gensim.models.keyedvectors.Vocab at 0x7f59be9b1748>,\n",
              " 'mr': <gensim.models.keyedvectors.Vocab at 0x7f59be9b1780>,\n",
              " 'dielh': <gensim.models.keyedvectors.Vocab at 0x7f59be9b17b8>,\n",
              " 'never': <gensim.models.keyedvectors.Vocab at 0x7f59be9b17f0>,\n",
              " 'leads': <gensim.models.keyedvectors.Vocab at 0x7f59be9b1828>,\n",
              " 'truthfull': <gensim.models.keyedvectors.Vocab at 0x7f59be9b1860>,\n",
              " 'many': <gensim.models.keyedvectors.Vocab at 0x7f59be9b1898>,\n",
              " 'times': <gensim.models.keyedvectors.Vocab at 0x7f59be9b18d0>,\n",
              " 'those': <gensim.models.keyedvectors.Vocab at 0x7f59be9b1908>,\n",
              " 'whom': <gensim.models.keyedvectors.Vocab at 0x7f59be9b1940>,\n",
              " 'shown': <gensim.models.keyedvectors.Vocab at 0x7f59be9b1978>,\n",
              " 'purchased': <gensim.models.keyedvectors.Vocab at 0x7f59be9b19b0>,\n",
              " 'it.even': <gensim.models.keyedvectors.Vocab at 0x7f59be9b19e8>,\n",
              " 'here': <gensim.models.keyedvectors.Vocab at 0x7f59be9b1a20>,\n",
              " 'zealand': <gensim.models.keyedvectors.Vocab at 0x7f59be9b1a58>,\n",
              " 'lot': <gensim.models.keyedvectors.Vocab at 0x7f59be9b1a90>,\n",
              " 'mentioned': <gensim.models.keyedvectors.Vocab at 0x7f59be9b1ac8>,\n",
              " 'relavent': <gensim.models.keyedvectors.Vocab at 0x7f59be9b1b00>,\n",
              " 'recomend': <gensim.models.keyedvectors.Vocab at 0x7f59be9b1b38>,\n",
              " 'everyone': <gensim.models.keyedvectors.Vocab at 0x7f59be9b1b70>,\n",
              " 'should': <gensim.models.keyedvectors.Vocab at 0x7f59be9b1ba8>,\n",
              " 'sweet': <gensim.models.keyedvectors.Vocab at 0x7f59be9b1be0>,\n",
              " 'sexy': <gensim.models.keyedvectors.Vocab at 0x7f59be9b1c18>,\n",
              " 'escapism': <gensim.models.keyedvectors.Vocab at 0x7f59be9b1c50>,\n",
              " 'really': <gensim.models.keyedvectors.Vocab at 0x7f59be9b1c88>,\n",
              " 'enjoyed': <gensim.models.keyedvectors.Vocab at 0x7f59be9b1cc0>,\n",
              " 'par': <gensim.models.keyedvectors.Vocab at 0x7f59be9b1cf8>,\n",
              " 'compared': <gensim.models.keyedvectors.Vocab at 0x7f59be9b1d30>,\n",
              " 'others': <gensim.models.keyedvectors.Vocab at 0x7f59be9b1d68>,\n",
              " '-': <gensim.models.keyedvectors.Vocab at 0x7f59be9b1da0>,\n",
              " 'susan': <gensim.models.keyedvectors.Vocab at 0x7f59be9b1dd8>,\n",
              " 'fails': <gensim.models.keyedvectors.Vocab at 0x7f59be9b1e10>,\n",
              " 'deliver': <gensim.models.keyedvectors.Vocab at 0x7f59be9b1e48>,\n",
              " 'good': <gensim.models.keyedvectors.Vocab at 0x7f59be9b1e80>,\n",
              " 'characters': <gensim.models.keyedvectors.Vocab at 0x7f59be9b1eb8>,\n",
              " 'emotional': <gensim.models.keyedvectors.Vocab at 0x7f59be9b1ef0>,\n",
              " 'depth': <gensim.models.keyedvectors.Vocab at 0x7f59be9b1f28>,\n",
              " 'glued': <gensim.models.keyedvectors.Vocab at 0x7f59be9b1f60>,\n",
              " 'finshed': <gensim.models.keyedvectors.Vocab at 0x7f59be9b1f98>,\n",
              " 'sad': <gensim.models.keyedvectors.Vocab at 0x7f59be9b1fd0>,\n",
              " '...': <gensim.models.keyedvectors.Vocab at 0x7f59be9b4048>,\n",
              " '..so': <gensim.models.keyedvectors.Vocab at 0x7f59be9b4080>,\n",
              " 'little': <gensim.models.keyedvectors.Vocab at 0x7f59be9b40b8>,\n",
              " 'absolute': <gensim.models.keyedvectors.Vocab at 0x7f59be9b40f0>,\n",
              " 'waste': <gensim.models.keyedvectors.Vocab at 0x7f59be9b4128>,\n",
              " 'unit': <gensim.models.keyedvectors.Vocab at 0x7f59be9b4160>,\n",
              " '.but': <gensim.models.keyedvectors.Vocab at 0x7f59be9b4198>,\n",
              " 'buying': <gensim.models.keyedvectors.Vocab at 0x7f59be9b41d0>,\n",
              " 'noisy': <gensim.models.keyedvectors.Vocab at 0x7f59be9b4208>,\n",
              " 'scares': <gensim.models.keyedvectors.Vocab at 0x7f59be9b4240>,\n",
              " 'grandsons': <gensim.models.keyedvectors.Vocab at 0x7f59be9b4278>,\n",
              " 'setting': <gensim.models.keyedvectors.Vocab at 0x7f59be9b42b0>,\n",
              " 'grind': <gensim.models.keyedvectors.Vocab at 0x7f59be9b42e8>,\n",
              " 'anywhere': <gensim.models.keyedvectors.Vocab at 0x7f59be9b4320>,\n",
              " 'tbsp': <gensim.models.keyedvectors.Vocab at 0x7f59be9b4358>,\n",
              " 'full': <gensim.models.keyedvectors.Vocab at 0x7f59be9b4390>,\n",
              " 'bin': <gensim.models.keyedvectors.Vocab at 0x7f59be9b43c8>,\n",
              " '..no': <gensim.models.keyedvectors.Vocab at 0x7f59be9b4400>,\n",
              " 'rhyme': <gensim.models.keyedvectors.Vocab at 0x7f59be9b4438>,\n",
              " 'reason': <gensim.models.keyedvectors.Vocab at 0x7f59be9b4470>,\n",
              " 'matter': <gensim.models.keyedvectors.Vocab at 0x7f59be9b44a8>,\n",
              " 'created': <gensim.models.keyedvectors.Vocab at 0x7f59be9b44e0>,\n",
              " 'everything': <gensim.models.keyedvectors.Vocab at 0x7f59be9b4518>,\n",
              " 'talcum': <gensim.models.keyedvectors.Vocab at 0x7f59be9b4550>,\n",
              " 'powder': <gensim.models.keyedvectors.Vocab at 0x7f59be9b4588>,\n",
              " 'fine': <gensim.models.keyedvectors.Vocab at 0x7f59be9b45c0>,\n",
              " 'coarse': <gensim.models.keyedvectors.Vocab at 0x7f59be9b45f8>,\n",
              " 'grounds': <gensim.models.keyedvectors.Vocab at 0x7f59be9b4630>,\n",
              " 'between': <gensim.models.keyedvectors.Vocab at 0x7f59be9b4668>,\n",
              " 'flakes': <gensim.models.keyedvectors.Vocab at 0x7f59be9b46a0>,\n",
              " 'were': <gensim.models.keyedvectors.Vocab at 0x7f59be9b46d8>,\n",
              " 'area': <gensim.models.keyedvectors.Vocab at 0x7f59be9b4710>,\n",
              " 'kitchen': <gensim.models.keyedvectors.Vocab at 0x7f59be9b4748>,\n",
              " '10-12': <gensim.models.keyedvectors.Vocab at 0x7f59be9b4780>,\n",
              " 'uses': <gensim.models.keyedvectors.Vocab at 0x7f59be9b47b8>,\n",
              " 'thankfully': <gensim.models.keyedvectors.Vocab at 0x7f59be9b47f0>,\n",
              " 'place': <gensim.models.keyedvectors.Vocab at 0x7f59be9b4828>,\n",
              " 'liberal': <gensim.models.keyedvectors.Vocab at 0x7f59be9b4860>,\n",
              " 'return': <gensim.models.keyedvectors.Vocab at 0x7f59be9b4898>,\n",
              " 'policy': <gensim.models.keyedvectors.Vocab at 0x7f59be9b48d0>,\n",
              " 'does': <gensim.models.keyedvectors.Vocab at 0x7f59be9b4908>,\n",
              " 'come': <gensim.models.keyedvectors.Vocab at 0x7f59be9b4940>,\n",
              " 'pieces': <gensim.models.keyedvectors.Vocab at 0x7f59be9b4978>,\n",
              " 'got': <gensim.models.keyedvectors.Vocab at 0x7f59be9b49b0>,\n",
              " 'daughter': <gensim.models.keyedvectors.Vocab at 0x7f59be9b49e8>,\n",
              " 'having': <gensim.models.keyedvectors.Vocab at 0x7f59be9b4a20>,\n",
              " 'thought': <gensim.models.keyedvectors.Vocab at 0x7f59be9b4a58>,\n",
              " 'clamp': <gensim.models.keyedvectors.Vocab at 0x7f59be9b4a90>,\n",
              " 'thing': <gensim.models.keyedvectors.Vocab at 0x7f59be9b4ac8>,\n",
              " 'happy': <gensim.models.keyedvectors.Vocab at 0x7f59be9b4b00>,\n",
              " 'find': <gensim.models.keyedvectors.Vocab at 0x7f59be9b4b38>,\n",
              " 'piece': <gensim.models.keyedvectors.Vocab at 0x7f59be9b4b70>,\n",
              " 'hysterical': <gensim.models.keyedvectors.Vocab at 0x7f59be9b4ba8>,\n",
              " 'eclectic': <gensim.models.keyedvectors.Vocab at 0x7f59be9b4be0>,\n",
              " 'comedy': <gensim.models.keyedvectors.Vocab at 0x7f59be9b4c18>,\n",
              " 'jack': <gensim.models.keyedvectors.Vocab at 0x7f59be9b4c50>,\n",
              " 'nicholson': <gensim.models.keyedvectors.Vocab at 0x7f59be9b4c88>,\n",
              " 'classic': <gensim.models.keyedvectors.Vocab at 0x7f59be9b4cc0>,\n",
              " 'movie': <gensim.models.keyedvectors.Vocab at 0x7f59be9b4cf8>,\n",
              " 'funny': <gensim.models.keyedvectors.Vocab at 0x7f59be9b4d30>,\n",
              " 'kept': <gensim.models.keyedvectors.Vocab at 0x7f59be9b4d68>,\n",
              " 'laughing': <gensim.models.keyedvectors.Vocab at 0x7f59be9b4da0>,\n",
              " 'hooked': <gensim.models.keyedvectors.Vocab at 0x7f59be9b4dd8>,\n",
              " 'russell': <gensim.models.keyedvectors.Vocab at 0x7f59be9b4e10>,\n",
              " 'watson': <gensim.models.keyedvectors.Vocab at 0x7f59be9b4e48>,\n",
              " 'fresh': <gensim.models.keyedvectors.Vocab at 0x7f59be9b4e80>,\n",
              " 'unique': <gensim.models.keyedvectors.Vocab at 0x7f59be9b4eb8>,\n",
              " 'negative': <gensim.models.keyedvectors.Vocab at 0x7f59be9b4ef0>,\n",
              " 'written': <gensim.models.keyedvectors.Vocab at 0x7f59be9b4f28>,\n",
              " 'decided': <gensim.models.keyedvectors.Vocab at 0x7f59be9b4f60>,\n",
              " 'quite': <gensim.models.keyedvectors.Vocab at 0x7f59be9b4f98>,\n",
              " 'must': <gensim.models.keyedvectors.Vocab at 0x7f59be9b4fd0>,\n",
              " 'wording': <gensim.models.keyedvectors.Vocab at 0x7f59be9b8048>,\n",
              " 'repetitious': <gensim.models.keyedvectors.Vocab at 0x7f59be9b8080>,\n",
              " 'phrases': <gensim.models.keyedvectors.Vocab at 0x7f59be9b80b8>,\n",
              " 'terminology': <gensim.models.keyedvectors.Vocab at 0x7f59be9b80f0>,\n",
              " 'made': <gensim.models.keyedvectors.Vocab at 0x7f59be9b8128>,\n",
              " 'point': <gensim.models.keyedvectors.Vocab at 0x7f59be9b8160>,\n",
              " 'rest': <gensim.models.keyedvectors.Vocab at 0x7f59be9b8198>,\n",
              " 'certainly': <gensim.models.keyedvectors.Vocab at 0x7f59be9b81d0>,\n",
              " 'minority': <gensim.models.keyedvectors.Vocab at 0x7f59be9b8208>,\n",
              " 'enough': <gensim.models.keyedvectors.Vocab at 0x7f59be9b8240>,\n",
              " 'musical': <gensim.models.keyedvectors.Vocab at 0x7f59be9b8278>,\n",
              " 'arrangements': <gensim.models.keyedvectors.Vocab at 0x7f59be9b82b0>,\n",
              " 'wonderful': <gensim.models.keyedvectors.Vocab at 0x7f59be9b82e8>,\n",
              " 'renditions': <gensim.models.keyedvectors.Vocab at 0x7f59be9b8320>,\n",
              " \"core'ngrato\": <gensim.models.keyedvectors.Vocab at 0x7f59be9b8358>,\n",
              " 'recondita': <gensim.models.keyedvectors.Vocab at 0x7f59be9b8390>,\n",
              " 'armonia': <gensim.models.keyedvectors.Vocab at 0x7f59be9b83c8>,\n",
              " 'vesti': <gensim.models.keyedvectors.Vocab at 0x7f59be9b8400>,\n",
              " 'la': <gensim.models.keyedvectors.Vocab at 0x7f59be9b8438>,\n",
              " 'giubba': <gensim.models.keyedvectors.Vocab at 0x7f59be9b8470>,\n",
              " '.perfection': <gensim.models.keyedvectors.Vocab at 0x7f59be9b84a8>,\n",
              " 'agree': <gensim.models.keyedvectors.Vocab at 0x7f59be9b84e0>,\n",
              " 'him': <gensim.models.keyedvectors.Vocab at 0x7f59be9b8518>,\n",
              " 'voice': <gensim.models.keyedvectors.Vocab at 0x7f59be9b8550>,\n",
              " '4th': <gensim.models.keyedvectors.Vocab at 0x7f59be9b8588>,\n",
              " 'cd': <gensim.models.keyedvectors.Vocab at 0x7f59be9b85c0>,\n",
              " '3': <gensim.models.keyedvectors.Vocab at 0x7f59be9b85f8>,\n",
              " 'such': <gensim.models.keyedvectors.Vocab at 0x7f59be9b8630>,\n",
              " 'short': <gensim.models.keyedvectors.Vocab at 0x7f59be9b8668>,\n",
              " 'amount': <gensim.models.keyedvectors.Vocab at 0x7f59be9b86a0>,\n",
              " 'plus': <gensim.models.keyedvectors.Vocab at 0x7f59be9b86d8>,\n",
              " 'promotional': <gensim.models.keyedvectors.Vocab at 0x7f59be9b8710>,\n",
              " 'trips': <gensim.models.keyedvectors.Vocab at 0x7f59be9b8748>,\n",
              " 'personal': <gensim.models.keyedvectors.Vocab at 0x7f59be9b8780>,\n",
              " 'performances': <gensim.models.keyedvectors.Vocab at 0x7f59be9b87b8>,\n",
              " 'play': <gensim.models.keyedvectors.Vocab at 0x7f59be9b87f0>,\n",
              " 'havoc': <gensim.models.keyedvectors.Vocab at 0x7f59be9b8828>,\n",
              " 'entertainer': <gensim.models.keyedvectors.Vocab at 0x7f59be9b8860>,\n",
              " 'consider': <gensim.models.keyedvectors.Vocab at 0x7f59be9b8898>,\n",
              " 'rare': <gensim.models.keyedvectors.Vocab at 0x7f59be9b88d0>,\n",
              " 'performer': <gensim.models.keyedvectors.Vocab at 0x7f59be9b8908>,\n",
              " 'beautiful': <gensim.models.keyedvectors.Vocab at 0x7f59be9b8940>,\n",
              " 'powerful': <gensim.models.keyedvectors.Vocab at 0x7f59be9b8978>,\n",
              " 'key': <gensim.models.keyedvectors.Vocab at 0x7f59be9b89b0>,\n",
              " 'feeling': <gensim.models.keyedvectors.Vocab at 0x7f59be9b89e8>,\n",
              " 'projects': <gensim.models.keyedvectors.Vocab at 0x7f59be9b8a20>,\n",
              " 'nice': <gensim.models.keyedvectors.Vocab at 0x7f59be9b8a58>,\n",
              " 'demeanor': <gensim.models.keyedvectors.Vocab at 0x7f59be9b8a90>,\n",
              " 'audiance': <gensim.models.keyedvectors.Vocab at 0x7f59be9b8ac8>,\n",
              " 'wishing': <gensim.models.keyedvectors.Vocab at 0x7f59be9b8b00>,\n",
              " 'success': <gensim.models.keyedvectors.Vocab at 0x7f59be9b8b38>,\n",
              " 'future': <gensim.models.keyedvectors.Vocab at 0x7f59be9b8b70>,\n",
              " 'real': <gensim.models.keyedvectors.Vocab at 0x7f59be9b8ba8>,\n",
              " 'fan': <gensim.models.keyedvectors.Vocab at 0x7f59be9b8be0>,\n",
              " 'product': <gensim.models.keyedvectors.Vocab at 0x7f59be9b8c18>,\n",
              " 'service': <gensim.models.keyedvectors.Vocab at 0x7f59be9b8c50>,\n",
              " 'fast': <gensim.models.keyedvectors.Vocab at 0x7f59be9b8c88>,\n",
              " 'agreed': <gensim.models.keyedvectors.Vocab at 0x7f59be9b8cc0>,\n",
              " 'themade': <gensim.models.keyedvectors.Vocab at 0x7f59be9b8cf8>,\n",
              " 'payment': <gensim.models.keyedvectors.Vocab at 0x7f59be9b8d30>,\n",
              " 'themgilberto': <gensim.models.keyedvectors.Vocab at 0x7f59be9b8d68>,\n",
              " 'venezuela': <gensim.models.keyedvectors.Vocab at 0x7f59be9b8da0>,\n",
              " 'menu': <gensim.models.keyedvectors.Vocab at 0x7f59be9b8dd8>,\n",
              " 'diverse': <gensim.models.keyedvectors.Vocab at 0x7f59be9b8e10>,\n",
              " 'recipes': <gensim.models.keyedvectors.Vocab at 0x7f59be9b8e48>,\n",
              " 'dieting': <gensim.models.keyedvectors.Vocab at 0x7f59be9b8e80>,\n",
              " 'using': <gensim.models.keyedvectors.Vocab at 0x7f59be9b8eb8>,\n",
              " 'quotation': <gensim.models.keyedvectors.Vocab at 0x7f59be9b8ef0>,\n",
              " 'marks': <gensim.models.keyedvectors.Vocab at 0x7f59be9b8f28>,\n",
              " 'menus': <gensim.models.keyedvectors.Vocab at 0x7f59be9b8f60>,\n",
              " 'feel': <gensim.models.keyedvectors.Vocab at 0x7f59be9b8f98>,\n",
              " 'shipper': <gensim.models.keyedvectors.Vocab at 0x7f59be9b8fd0>,\n",
              " 'earlier': <gensim.models.keyedvectors.Vocab at 0x7f59be9bb048>,\n",
              " 'estimated': <gensim.models.keyedvectors.Vocab at 0x7f59be9bb080>,\n",
              " 'arrival': <gensim.models.keyedvectors.Vocab at 0x7f59be9bb0b8>,\n",
              " 'love': <gensim.models.keyedvectors.Vocab at 0x7f59be9bb0f0>,\n",
              " 'links': <gensim.models.keyedvectors.Vocab at 0x7f59be9bb128>,\n",
              " 'support': <gensim.models.keyedvectors.Vocab at 0x7f59be9bb160>,\n",
              " 'beginning': <gensim.models.keyedvectors.Vocab at 0x7f59be9bb198>,\n",
              " 'christian': <gensim.models.keyedvectors.Vocab at 0x7f59be9bb1d0>,\n",
              " 'family-focused': <gensim.models.keyedvectors.Vocab at 0x7f59be9bb208>,\n",
              " 'summarized': <gensim.models.keyedvectors.Vocab at 0x7f59be9bb240>,\n",
              " 'perfectly': <gensim.models.keyedvectors.Vocab at 0x7f59be9bb278>,\n",
              " 'say': <gensim.models.keyedvectors.Vocab at 0x7f59be9bb2b0>,\n",
              " 'leaped': <gensim.models.keyedvectors.Vocab at 0x7f59be9bb2e8>,\n",
              " 'waiting': <gensim.models.keyedvectors.Vocab at 0x7f59be9bb320>,\n",
              " 'youngest': <gensim.models.keyedvectors.Vocab at 0x7f59be9bb358>,\n",
              " 'blockbuster': <gensim.models.keyedvectors.Vocab at 0x7f59be9bb390>,\n",
              " 'toally': <gensim.models.keyedvectors.Vocab at 0x7f59be9bb3c8>,\n",
              " 'satisfying.links': <gensim.models.keyedvectors.Vocab at 0x7f59be9bb400>,\n",
              " 'inspire': <gensim.models.keyedvectors.Vocab at 0x7f59be9bb438>,\n",
              " 'tibet': <gensim.models.keyedvectors.Vocab at 0x7f59be9bb470>,\n",
              " 'cry': <gensim.models.keyedvectors.Vocab at 0x7f59be9bb4a8>,\n",
              " 'snow': <gensim.models.keyedvectors.Vocab at 0x7f59be9bb4e0>,\n",
              " 'lionthe': <gensim.models.keyedvectors.Vocab at 0x7f59be9bb518>,\n",
              " 'walkerpeace': <gensim.models.keyedvectors.Vocab at 0x7f59be9bb550>,\n",
              " 'dayjoyeux': <gensim.models.keyedvectors.Vocab at 0x7f59be9bb588>,\n",
              " 'noel': <gensim.models.keyedvectors.Vocab at 0x7f59be9bb5c0>,\n",
              " '/': <gensim.models.keyedvectors.Vocab at 0x7f59be9bb5f8>,\n",
              " 'christmas': <gensim.models.keyedvectors.Vocab at 0x7f59be9bb630>,\n",
              " 'signature': <gensim.models.keyedvectors.Vocab at 0x7f59be9bb668>,\n",
              " 'original': <gensim.models.keyedvectors.Vocab at 0x7f59be9bb6a0>,\n",
              " 'english': <gensim.models.keyedvectors.Vocab at 0x7f59be9bb6d8>,\n",
              " 'left': <gensim.models.keyedvectors.Vocab at 0x7f59be9bb710>,\n",
              " 'behind': <gensim.models.keyedvectors.Vocab at 0x7f59be9bb748>,\n",
              " 'movielinks': <gensim.models.keyedvectors.Vocab at 0x7f59be9bb780>,\n",
              " 'books': <gensim.models.keyedvectors.Vocab at 0x7f59be9bb7b8>,\n",
              " 'faith': <gensim.models.keyedvectors.Vocab at 0x7f59be9bb7f0>,\n",
              " 'americagod': <gensim.models.keyedvectors.Vocab at 0x7f59be9bb828>,\n",
              " 'lpthe': <gensim.models.keyedvectors.Vocab at 0x7f59be9bb860>,\n",
              " 'god': <gensim.models.keyedvectors.Vocab at 0x7f59be9bb898>,\n",
              " 'taking': <gensim.models.keyedvectors.Vocab at 0x7f59be9bb8d0>,\n",
              " 'back': <gensim.models.keyedvectors.Vocab at 0x7f59be9bb908>,\n",
              " 'our': <gensim.models.keyedvectors.Vocab at 0x7f59be9bb940>,\n",
              " 'country': <gensim.models.keyedvectors.Vocab at 0x7f59be9bb978>,\n",
              " 'religious': <gensim.models.keyedvectors.Vocab at 0x7f59be9bb9b0>,\n",
              " 'rightfaith-based': <gensim.models.keyedvectors.Vocab at 0x7f59be9bb9e8>,\n",
              " 'diplomacy': <gensim.models.keyedvectors.Vocab at 0x7f59be9bba20>,\n",
              " 'trumping': <gensim.models.keyedvectors.Vocab at 0x7f59be9bba58>,\n",
              " 'realpolitikthank': <gensim.models.keyedvectors.Vocab at 0x7f59be9bba90>,\n",
              " 'evolution': <gensim.models.keyedvectors.Vocab at 0x7f59be9bbac8>,\n",
              " 'marriage': <gensim.models.keyedvectors.Vocab at 0x7f59be9bbb00>,\n",
              " 'science': <gensim.models.keyedvectors.Vocab at 0x7f59be9bbb38>,\n",
              " 'religion': <gensim.models.keyedvectors.Vocab at 0x7f59be9bbb70>,\n",
              " 'transform': <gensim.models.keyedvectors.Vocab at 0x7f59be9bbba8>,\n",
              " 'life': <gensim.models.keyedvectors.Vocab at 0x7f59be9bbbe0>,\n",
              " 'worldbreaking': <gensim.models.keyedvectors.Vocab at 0x7f59be9bbc18>,\n",
              " 'axis': <gensim.models.keyedvectors.Vocab at 0x7f59be9bbc50>,\n",
              " 'evil': <gensim.models.keyedvectors.Vocab at 0x7f59be9bbc88>,\n",
              " 'oust': <gensim.models.keyedvectors.Vocab at 0x7f59be9bbcc0>,\n",
              " 'world': <gensim.models.keyedvectors.Vocab at 0x7f59be9bbcf8>,\n",
              " 'last': <gensim.models.keyedvectors.Vocab at 0x7f59be9bbd30>,\n",
              " 'dictators': <gensim.models.keyedvectors.Vocab at 0x7f59be9bbd68>,\n",
              " '2025': <gensim.models.keyedvectors.Vocab at 0x7f59be9bbda0>,\n",
              " 'making': <gensim.models.keyedvectors.Vocab at 0x7f59be9bbdd8>,\n",
              " 'joyful': <gensim.models.keyedvectors.Vocab at 0x7f59be9bbe10>,\n",
              " 'noise': <gensim.models.keyedvectors.Vocab at 0x7f59be9bbe48>,\n",
              " 'lord': <gensim.models.keyedvectors.Vocab at 0x7f59be9bbe80>,\n",
              " 'album': <gensim.models.keyedvectors.Vocab at 0x7f59be9bbeb8>,\n",
              " 'perfect': <gensim.models.keyedvectors.Vocab at 0x7f59be9bbef0>,\n",
              " 'loves': <gensim.models.keyedvectors.Vocab at 0x7f59be9bbf28>,\n",
              " 'hymns': <gensim.models.keyedvectors.Vocab at 0x7f59be9bbf60>,\n",
              " 'includes': <gensim.models.keyedvectors.Vocab at 0x7f59be9bbf98>,\n",
              " 'song': <gensim.models.keyedvectors.Vocab at 0x7f59be9bbfd0>,\n",
              " 'younger': <gensim.models.keyedvectors.Vocab at 0x7f59be9be048>,\n",
              " 'may': <gensim.models.keyedvectors.Vocab at 0x7f59be9be080>,\n",
              " 'heard': <gensim.models.keyedvectors.Vocab at 0x7f59be9be0b8>,\n",
              " 'church': <gensim.models.keyedvectors.Vocab at 0x7f59be9be0f0>,\n",
              " 'wildwood': <gensim.models.keyedvectors.Vocab at 0x7f59be9be128>,\n",
              " '32': <gensim.models.keyedvectors.Vocab at 0x7f59be9be160>,\n",
              " 'favorites': <gensim.models.keyedvectors.Vocab at 0x7f59be9be198>,\n",
              " 'now.tennesse': <gensim.models.keyedvectors.Vocab at 0x7f59be9be1d0>,\n",
              " 'ernie': <gensim.models.keyedvectors.Vocab at 0x7f59be9be208>,\n",
              " 'sings': <gensim.models.keyedvectors.Vocab at 0x7f59be9be240>,\n",
              " 'beautifully': <gensim.models.keyedvectors.Vocab at 0x7f59be9be278>,\n",
              " 'deep': <gensim.models.keyedvectors.Vocab at 0x7f59be9be2b0>,\n",
              " 'choir': <gensim.models.keyedvectors.Vocab at 0x7f59be9be2e8>,\n",
              " 'backing': <gensim.models.keyedvectors.Vocab at 0x7f59be9be320>,\n",
              " 'sounds': <gensim.models.keyedvectors.Vocab at 0x7f59be9be358>,\n",
              " 'worshipping': <gensim.models.keyedvectors.Vocab at 0x7f59be9be390>,\n",
              " 'well.i': <gensim.models.keyedvectors.Vocab at 0x7f59be9be3c8>,\n",
              " 'listening': <gensim.models.keyedvectors.Vocab at 0x7f59be9be400>,\n",
              " 'which': <gensim.models.keyedvectors.Vocab at 0x7f59be9be438>,\n",
              " 'difficult': <gensim.models.keyedvectors.Vocab at 0x7f59be9be470>,\n",
              " 'sing': <gensim.models.keyedvectors.Vocab at 0x7f59be9be4a8>,\n",
              " 'along': <gensim.models.keyedvectors.Vocab at 0x7f59be9be4e0>,\n",
              " 'blessing': <gensim.models.keyedvectors.Vocab at 0x7f59be9be518>,\n",
              " 'hears': <gensim.models.keyedvectors.Vocab at 0x7f59be9be550>,\n",
              " 'expected': <gensim.models.keyedvectors.Vocab at 0x7f59be9be588>,\n",
              " 'american-sicilian': <gensim.models.keyedvectors.Vocab at 0x7f59be9be5c0>,\n",
              " 'appreciates': <gensim.models.keyedvectors.Vocab at 0x7f59be9be5f8>,\n",
              " 'roots': <gensim.models.keyedvectors.Vocab at 0x7f59be9be630>,\n",
              " \"'\": <gensim.models.keyedvectors.Vocab at 0x7f59be9be668>,\n",
              " 'history': <gensim.models.keyedvectors.Vocab at 0x7f59be9be6a0>,\n",
              " 'traditions': <gensim.models.keyedvectors.Vocab at 0x7f59be9be6d8>,\n",
              " 'including': <gensim.models.keyedvectors.Vocab at 0x7f59be9be710>,\n",
              " 'music.this': <gensim.models.keyedvectors.Vocab at 0x7f59be9be748>,\n",
              " 'far': <gensim.models.keyedvectors.Vocab at 0x7f59be9be780>,\n",
              " 'below': <gensim.models.keyedvectors.Vocab at 0x7f59be9be7b8>,\n",
              " 'rendition': <gensim.models.keyedvectors.Vocab at 0x7f59be9be7f0>,\n",
              " 'popular': <gensim.models.keyedvectors.Vocab at 0x7f59be9be828>,\n",
              " 'known': <gensim.models.keyedvectors.Vocab at 0x7f59be9be860>,\n",
              " 'songs': <gensim.models.keyedvectors.Vocab at 0x7f59be9be898>,\n",
              " 'singer': <gensim.models.keyedvectors.Vocab at 0x7f59be9be8d0>,\n",
              " 'lack': <gensim.models.keyedvectors.Vocab at 0x7f59be9be908>,\n",
              " 'clarity': <gensim.models.keyedvectors.Vocab at 0x7f59be9be940>,\n",
              " 'cases': <gensim.models.keyedvectors.Vocab at 0x7f59be9be978>,\n",
              " 'believe': <gensim.models.keyedvectors.Vocab at 0x7f59be9be9b0>,\n",
              " 'singing': <gensim.models.keyedvectors.Vocab at 0x7f59be9be9e8>,\n",
              " 'hearing': <gensim.models.keyedvectors.Vocab at 0x7f59be9bea20>,\n",
              " 'singers': <gensim.models.keyedvectors.Vocab at 0x7f59be9bea58>,\n",
              " 'rosa': <gensim.models.keyedvectors.Vocab at 0x7f59be9bea90>,\n",
              " 'ballestreri': <gensim.models.keyedvectors.Vocab at 0x7f59be9beac8>,\n",
              " 'toni': <gensim.models.keyedvectors.Vocab at 0x7f59be9beb00>,\n",
              " 'pagliaro': <gensim.models.keyedvectors.Vocab at 0x7f59be9beb38>,\n",
              " 'e.g': <gensim.models.keyedvectors.Vocab at 0x7f59be9beb70>,\n",
              " 'votu': <gensim.models.keyedvectors.Vocab at 0x7f59be9beba8>,\n",
              " 'e': <gensim.models.keyedvectors.Vocab at 0x7f59be9bebe0>,\n",
              " 'mi': <gensim.models.keyedvectors.Vocab at 0x7f59be9bec18>,\n",
              " 'rivotu': <gensim.models.keyedvectors.Vocab at 0x7f59be9bec50>,\n",
              " ';': <gensim.models.keyedvectors.Vocab at 0x7f59be9bec88>,\n",
              " 'ciuri': <gensim.models.keyedvectors.Vocab at 0x7f59be9becc0>,\n",
              " 'li': <gensim.models.keyedvectors.Vocab at 0x7f59be9becf8>,\n",
              " 'beddi': <gensim.models.keyedvectors.Vocab at 0x7f59be9bed30>,\n",
              " 'pira': <gensim.models.keyedvectors.Vocab at 0x7f59be9bed68>,\n",
              " '.i': <gensim.models.keyedvectors.Vocab at 0x7f59be9beda0>,\n",
              " 'discarded': <gensim.models.keyedvectors.Vocab at 0x7f59be9bedd8>,\n",
              " 'oh': <gensim.models.keyedvectors.Vocab at 0x7f59be9bee10>,\n",
              " 'pesky': <gensim.models.keyedvectors.Vocab at 0x7f59be9bee48>,\n",
              " 'alphabet': <gensim.models.keyedvectors.Vocab at 0x7f59be9bee80>,\n",
              " 'letters': <gensim.models.keyedvectors.Vocab at 0x7f59be9beeb8>,\n",
              " 'b': <gensim.models.keyedvectors.Vocab at 0x7f59be9beef0>,\n",
              " 'c': <gensim.models.keyedvectors.Vocab at 0x7f59be9bef28>,\n",
              " 'begins': <gensim.models.keyedvectors.Vocab at 0x7f59be9bef60>,\n",
              " 'delightful': <gensim.models.keyedvectors.Vocab at 0x7f59be9bef98>,\n",
              " 'rhythmic': <gensim.models.keyedvectors.Vocab at 0x7f59be9befd0>,\n",
              " 'cadence': <gensim.models.keyedvectors.Vocab at 0x7f59be9c2048>,\n",
              " 'follow': <gensim.models.keyedvectors.Vocab at 0x7f59be9c2080>,\n",
              " 'naughty': <gensim.models.keyedvectors.Vocab at 0x7f59be9c20b8>,\n",
              " 'down': <gensim.models.keyedvectors.Vocab at 0x7f59be9c20f0>,\n",
              " 'coconut': <gensim.models.keyedvectors.Vocab at 0x7f59be9c2128>,\n",
              " 'tree': <gensim.models.keyedvectors.Vocab at 0x7f59be9c2160>,\n",
              " 'fun': <gensim.models.keyedvectors.Vocab at 0x7f59be9c2198>,\n",
              " 'young': <gensim.models.keyedvectors.Vocab at 0x7f59be9c21d0>,\n",
              " 'children': <gensim.models.keyedvectors.Vocab at 0x7f59be9c2208>,\n",
              " 'chase': <gensim.models.keyedvectors.Vocab at 0x7f59be9c2240>,\n",
              " 'each': <gensim.models.keyedvectors.Vocab at 0x7f59be9c2278>,\n",
              " 'inevitable': <gensim.models.keyedvectors.Vocab at 0x7f59be9c22b0>,\n",
              " 'happens': <gensim.models.keyedvectors.Vocab at 0x7f59be9c22e8>,\n",
              " 'fall': <gensim.models.keyedvectors.Vocab at 0x7f59be9c2320>,\n",
              " 'then': <gensim.models.keyedvectors.Vocab at 0x7f59be9c2358>,\n",
              " 'again.your': <gensim.models.keyedvectors.Vocab at 0x7f59be9c2390>,\n",
              " 'kids': <gensim.models.keyedvectors.Vocab at 0x7f59be9c23c8>,\n",
              " 'delight': <gensim.models.keyedvectors.Vocab at 0x7f59be9c2400>,\n",
              " 'mine': <gensim.models.keyedvectors.Vocab at 0x7f59be9c2438>,\n",
              " 'rapid': <gensim.models.keyedvectors.Vocab at 0x7f59be9c2470>,\n",
              " 'pace': <gensim.models.keyedvectors.Vocab at 0x7f59be9c24a8>,\n",
              " 'ca': <gensim.models.keyedvectors.Vocab at 0x7f59be9c24e0>,\n",
              " 'help': <gensim.models.keyedvectors.Vocab at 0x7f59be9c2518>,\n",
              " 'swaying': <gensim.models.keyedvectors.Vocab at 0x7f59be9c2550>,\n",
              " 'words': <gensim.models.keyedvectors.Vocab at 0x7f59be9c2588>,\n",
              " 'bright': <gensim.models.keyedvectors.Vocab at 0x7f59be9c25c0>,\n",
              " 'bold': <gensim.models.keyedvectors.Vocab at 0x7f59be9c25f8>,\n",
              " 'simple': <gensim.models.keyedvectors.Vocab at 0x7f59be9c2630>,\n",
              " 'illustrations': <gensim.models.keyedvectors.Vocab at 0x7f59be9c2668>,\n",
              " 'rejoice': <gensim.models.keyedvectors.Vocab at 0x7f59be9c26a0>,\n",
              " 'flat': <gensim.models.keyedvectors.Vocab at 0x7f59be9c26d8>,\n",
              " 'timeless': <gensim.models.keyedvectors.Vocab at 0x7f59be9c2710>,\n",
              " 'buen': <gensim.models.keyedvectors.Vocab at 0x7f59be9c2748>,\n",
              " 'libro': <gensim.models.keyedvectors.Vocab at 0x7f59be9c2780>,\n",
              " 'relato': <gensim.models.keyedvectors.Vocab at 0x7f59be9c27b8>,\n",
              " 'entretenido': <gensim.models.keyedvectors.Vocab at 0x7f59be9c27f0>,\n",
              " 'parecio': <gensim.models.keyedvectors.Vocab at 0x7f59be9c2828>,\n",
              " 'que': <gensim.models.keyedvectors.Vocab at 0x7f59be9c2860>,\n",
              " 'isabel': <gensim.models.keyedvectors.Vocab at 0x7f59be9c2898>,\n",
              " 'trata': <gensim.models.keyedvectors.Vocab at 0x7f59be9c28d0>,\n",
              " 'de': <gensim.models.keyedvectors.Vocab at 0x7f59be9c2908>,\n",
              " 'buscar': <gensim.models.keyedvectors.Vocab at 0x7f59be9c2940>,\n",
              " 'una': <gensim.models.keyedvectors.Vocab at 0x7f59be9c2978>,\n",
              " 'heroina': <gensim.models.keyedvectors.Vocab at 0x7f59be9c29b0>,\n",
              " 'sea': <gensim.models.keyedvectors.Vocab at 0x7f59be9c29e8>,\n",
              " 'fuerte': <gensim.models.keyedvectors.Vocab at 0x7f59be9c2a20>,\n",
              " 'y': <gensim.models.keyedvectors.Vocab at 0x7f59be9c2a58>,\n",
              " 'en': <gensim.models.keyedvectors.Vocab at 0x7f59be9c2a90>,\n",
              " 'su': <gensim.models.keyedvectors.Vocab at 0x7f59be9c2ac8>,\n",
              " 'juicio': <gensim.models.keyedvectors.Vocab at 0x7f59be9c2b00>,\n",
              " 'ella': <gensim.models.keyedvectors.Vocab at 0x7f59be9c2b38>,\n",
              " 'encuentra': <gensim.models.keyedvectors.Vocab at 0x7f59be9c2b70>,\n",
              " 'mas': <gensim.models.keyedvectors.Vocab at 0x7f59be9c2ba8>,\n",
              " 'mujer': <gensim.models.keyedvectors.Vocab at 0x7f59be9c2be0>,\n",
              " 'con': <gensim.models.keyedvectors.Vocab at 0x7f59be9c2c18>,\n",
              " 'tanto': <gensim.models.keyedvectors.Vocab at 0x7f59be9c2c50>,\n",
              " 'o': <gensim.models.keyedvectors.Vocab at 0x7f59be9c2c88>,\n",
              " 'poder': <gensim.models.keyedvectors.Vocab at 0x7f59be9c2cc0>,\n",
              " 'los': <gensim.models.keyedvectors.Vocab at 0x7f59be9c2cf8>,\n",
              " 'hombres': <gensim.models.keyedvectors.Vocab at 0x7f59be9c2d30>,\n",
              " 'es': <gensim.models.keyedvectors.Vocab at 0x7f59be9c2d68>,\n",
              " 'muy': <gensim.models.keyedvectors.Vocab at 0x7f59be9c2da0>,\n",
              " 'lo': <gensim.models.keyedvectors.Vocab at 0x7f59be9c2dd8>,\n",
              " 'comparo': <gensim.models.keyedvectors.Vocab at 0x7f59be9c2e10>,\n",
              " 'sus': <gensim.models.keyedvectors.Vocab at 0x7f59be9c2e48>,\n",
              " 'otros': <gensim.models.keyedvectors.Vocab at 0x7f59be9c2e80>,\n",
              " 'libros': <gensim.models.keyedvectors.Vocab at 0x7f59be9c2eb8>,\n",
              " 'porque': <gensim.models.keyedvectors.Vocab at 0x7f59be9c2ef0>,\n",
              " 'este': <gensim.models.keyedvectors.Vocab at 0x7f59be9c2f28>,\n",
              " 'tiene': <gensim.models.keyedvectors.Vocab at 0x7f59be9c2f60>,\n",
              " 'propia': <gensim.models.keyedvectors.Vocab at 0x7f59be9c2f98>,\n",
              " 'direccion': <gensim.models.keyedvectors.Vocab at 0x7f59be9c2fd0>,\n",
              " 'entretiene': <gensim.models.keyedvectors.Vocab at 0x7f59be9c6048>,\n",
              " 'sabe': <gensim.models.keyedvectors.Vocab at 0x7f59be9c6080>,\n",
              " 'mantener': <gensim.models.keyedvectors.Vocab at 0x7f59be9c60b8>,\n",
              " 'el': <gensim.models.keyedvectors.Vocab at 0x7f59be9c60f0>,\n",
              " 'interes': <gensim.models.keyedvectors.Vocab at 0x7f59be9c6128>,\n",
              " 'lectores': <gensim.models.keyedvectors.Vocab at 0x7f59be9c6160>,\n",
              " 'cinco': <gensim.models.keyedvectors.Vocab at 0x7f59be9c6198>,\n",
              " 'estrellas': <gensim.models.keyedvectors.Vocab at 0x7f59be9c61d0>,\n",
              " 'songwriter': <gensim.models.keyedvectors.Vocab at 0x7f59be9c6208>,\n",
              " 'introduction': <gensim.models.keyedvectors.Vocab at 0x7f59be9c6240>,\n",
              " 'john': <gensim.models.keyedvectors.Vocab at 0x7f59be9c6278>,\n",
              " 'prine': <gensim.models.keyedvectors.Vocab at 0x7f59be9c62b0>,\n",
              " 'record': <gensim.models.keyedvectors.Vocab at 0x7f59be9c62e8>,\n",
              " 'give': <gensim.models.keyedvectors.Vocab at 0x7f59be9c6320>,\n",
              " '5': <gensim.models.keyedvectors.Vocab at 0x7f59be9c6358>,\n",
              " 'star': <gensim.models.keyedvectors.Vocab at 0x7f59be9c6390>,\n",
              " 'rating': <gensim.models.keyedvectors.Vocab at 0x7f59be9c63c8>,\n",
              " 'work': <gensim.models.keyedvectors.Vocab at 0x7f59be9c6400>,\n",
              " 'disc': <gensim.models.keyedvectors.Vocab at 0x7f59be9c6438>,\n",
              " 'save': <gensim.models.keyedvectors.Vocab at 0x7f59be9c6470>,\n",
              " 'three': <gensim.models.keyedvectors.Vocab at 0x7f59be9c64a8>,\n",
              " 'tracks': <gensim.models.keyedvectors.Vocab at 0x7f59be9c64e0>,\n",
              " 'later': <gensim.models.keyedvectors.Vocab at 0x7f59be9c6518>,\n",
              " 'two.two': <gensim.models.keyedvectors.Vocab at 0x7f59be9c6550>,\n",
              " 'paticular': <gensim.models.keyedvectors.Vocab at 0x7f59be9c6588>,\n",
              " 'standout': <gensim.models.keyedvectors.Vocab at 0x7f59be9c65c0>,\n",
              " 'storm': <gensim.models.keyedvectors.Vocab at 0x7f59be9c65f8>,\n",
              " 'windows': <gensim.models.keyedvectors.Vocab at 0x7f59be9c6630>,\n",
              " 'bruised': <gensim.models.keyedvectors.Vocab at 0x7f59be9c6668>,\n",
              " 'orange': <gensim.models.keyedvectors.Vocab at 0x7f59be9c66a0>,\n",
              " 'more': <gensim.models.keyedvectors.Vocab at 0x7f59be9c66d8>,\n",
              " 'lived': <gensim.models.keyedvectors.Vocab at 0x7f59be9c6710>,\n",
              " 'hype': <gensim.models.keyedvectors.Vocab at 0x7f59be9c6748>,\n",
              " 'knew': <gensim.models.keyedvectors.Vocab at 0x7f59be9c6780>,\n",
              " 'trouble': <gensim.models.keyedvectors.Vocab at 0x7f59be9c67b8>,\n",
              " 'cut': <gensim.models.keyedvectors.Vocab at 0x7f59be9c67f0>,\n",
              " 'joss': <gensim.models.keyedvectors.Vocab at 0x7f59be9c6828>,\n",
              " 'guy': <gensim.models.keyedvectors.Vocab at 0x7f59be9c6860>,\n",
              " 'telling': <gensim.models.keyedvectors.Vocab at 0x7f59be9c6898>,\n",
              " 'need': <gensim.models.keyedvectors.Vocab at 0x7f59be9c68d0>,\n",
              " 'balls': <gensim.models.keyedvectors.Vocab at 0x7f59be9c6908>,\n",
              " 'change': <gensim.models.keyedvectors.Vocab at 0x7f59be9c6940>,\n",
              " 'hear': <gensim.models.keyedvectors.Vocab at 0x7f59be9c6978>,\n",
              " 'guys': <gensim.models.keyedvectors.Vocab at 0x7f59be9c69b0>,\n",
              " 'listened': <gensim.models.keyedvectors.Vocab at 0x7f59be9c69e8>,\n",
              " 'liked': <gensim.models.keyedvectors.Vocab at 0x7f59be9c6a20>,\n",
              " 'transcendent': <gensim.models.keyedvectors.Vocab at 0x7f59be9c6a58>,\n",
              " 'checked': <gensim.models.keyedvectors.Vocab at 0x7f59be9c6a90>,\n",
              " 'hate': <gensim.models.keyedvectors.Vocab at 0x7f59be9c6ac8>,\n",
              " 'talented': <gensim.models.keyedvectors.Vocab at 0x7f59be9c6b00>,\n",
              " 'woman': <gensim.models.keyedvectors.Vocab at 0x7f59be9c6b38>,\n",
              " 'luck': <gensim.models.keyedvectors.Vocab at 0x7f59be9c6b70>,\n",
              " 'girl': <gensim.models.keyedvectors.Vocab at 0x7f59be9c6ba8>,\n",
              " 'catch': <gensim.models.keyedvectors.Vocab at 0x7f59be9c6be0>,\n",
              " 'she': <gensim.models.keyedvectors.Vocab at 0x7f59be9c6c18>,\n",
              " 'loses': <gensim.models.keyedvectors.Vocab at 0x7f59be9c6c50>,\n",
              " 'freshness': <gensim.models.keyedvectors.Vocab at 0x7f59be9c6c88>,\n",
              " 'stands': <gensim.models.keyedvectors.Vocab at 0x7f59be9c6cc0>,\n",
              " 'sameness': <gensim.models.keyedvectors.Vocab at 0x7f59be9c6cf8>,\n",
              " 'million': <gensim.models.keyedvectors.Vocab at 0x7f59be9c6d30>,\n",
              " 'wan': <gensim.models.keyedvectors.Vocab at 0x7f59be9c6d68>,\n",
              " 'na': <gensim.models.keyedvectors.Vocab at 0x7f59be9c6da0>,\n",
              " 'women': <gensim.models.keyedvectors.Vocab at 0x7f59be9c6dd8>,\n",
              " 'pipes': <gensim.models.keyedvectors.Vocab at 0x7f59be9c6e10>,\n",
              " 'trick': <gensim.models.keyedvectors.Vocab at 0x7f59be9c6e48>,\n",
              " 'less': <gensim.models.keyedvectors.Vocab at 0x7f59be9c6e80>,\n",
              " 'better.you': <gensim.models.keyedvectors.Vocab at 0x7f59be9c6eb8>,\n",
              " 'backup': <gensim.models.keyedvectors.Vocab at 0x7f59be9c6ef0>,\n",
              " 'rapping': <gensim.models.keyedvectors.Vocab at 0x7f59be9c6f28>,\n",
              " 'heavy': <gensim.models.keyedvectors.Vocab at 0x7f59be9c6f60>,\n",
              " 'beat': <gensim.models.keyedvectors.Vocab at 0x7f59be9c6f98>,\n",
              " 'go': <gensim.models.keyedvectors.Vocab at 0x7f59be9c6fd0>,\n",
              " 'alone': <gensim.models.keyedvectors.Vocab at 0x7f59be9ca048>,\n",
              " 'whole': <gensim.models.keyedvectors.Vocab at 0x7f59be9ca080>,\n",
              " 'crew': <gensim.models.keyedvectors.Vocab at 0x7f59be9ca0b8>,\n",
              " 'heartfelt': <gensim.models.keyedvectors.Vocab at 0x7f59be9ca0f0>,\n",
              " 'truthful': <gensim.models.keyedvectors.Vocab at 0x7f59be9ca128>,\n",
              " 'insight': <gensim.models.keyedvectors.Vocab at 0x7f59be9ca160>,\n",
              " 'terrific': <gensim.models.keyedvectors.Vocab at 0x7f59be9ca198>,\n",
              " 'toddlers': <gensim.models.keyedvectors.Vocab at 0x7f59be9ca1d0>,\n",
              " 'parents': <gensim.models.keyedvectors.Vocab at 0x7f59be9ca208>,\n",
              " 'lorilee': <gensim.models.keyedvectors.Vocab at 0x7f59be9ca240>,\n",
              " 'craker': <gensim.models.keyedvectors.Vocab at 0x7f59be9ca278>,\n",
              " 'writes': <gensim.models.keyedvectors.Vocab at 0x7f59be9ca2b0>,\n",
              " 'shares': <gensim.models.keyedvectors.Vocab at 0x7f59be9ca2e8>,\n",
              " 'own': <gensim.models.keyedvectors.Vocab at 0x7f59be9ca320>,\n",
              " 'moms': <gensim.models.keyedvectors.Vocab at 0x7f59be9ca358>,\n",
              " 'quirks': <gensim.models.keyedvectors.Vocab at 0x7f59be9ca390>,\n",
              " 'picky': <gensim.models.keyedvectors.Vocab at 0x7f59be9ca3c8>,\n",
              " 'eating': <gensim.models.keyedvectors.Vocab at 0x7f59be9ca400>,\n",
              " 'tackling': <gensim.models.keyedvectors.Vocab at 0x7f59be9ca438>,\n",
              " 'potty': <gensim.models.keyedvectors.Vocab at 0x7f59be9ca470>,\n",
              " 'training': <gensim.models.keyedvectors.Vocab at 0x7f59be9ca4a8>,\n",
              " 'quick': <gensim.models.keyedvectors.Vocab at 0x7f59be9ca4e0>,\n",
              " 'easy': <gensim.models.keyedvectors.Vocab at 0x7f59be9ca518>,\n",
              " 'elta': <gensim.models.keyedvectors.Vocab at 0x7f59be9ca550>,\n",
              " 'md': <gensim.models.keyedvectors.Vocab at 0x7f59be9ca588>,\n",
              " 'uv': <gensim.models.keyedvectors.Vocab at 0x7f59be9ca5c0>,\n",
              " 'clear': <gensim.models.keyedvectors.Vocab at 0x7f59be9ca5f8>,\n",
              " 'spf': <gensim.models.keyedvectors.Vocab at 0x7f59be9ca630>,\n",
              " '46': <gensim.models.keyedvectors.Vocab at 0x7f59be9ca668>,\n",
              " 'usually': <gensim.models.keyedvectors.Vocab at 0x7f59be9ca6a0>,\n",
              " 'sunscreen': <gensim.models.keyedvectors.Vocab at 0x7f59be9ca6d8>,\n",
              " 'something': <gensim.models.keyedvectors.Vocab at 0x7f59be9ca710>,\n",
              " 'feels': <gensim.models.keyedvectors.Vocab at 0x7f59be9ca748>,\n",
              " 'face': <gensim.models.keyedvectors.Vocab at 0x7f59be9ca780>,\n",
              " 'smooth': <gensim.models.keyedvectors.Vocab at 0x7f59be9ca7b8>,\n",
              " 'sensitive': <gensim.models.keyedvectors.Vocab at 0x7f59be9ca7f0>,\n",
              " 'skin': <gensim.models.keyedvectors.Vocab at 0x7f59be9ca828>,\n",
              " 'quality': <gensim.models.keyedvectors.Vocab at 0x7f59be9ca860>,\n",
              " 'redeeming': <gensim.models.keyedvectors.Vocab at 0x7f59be9ca898>,\n",
              " 'factor': <gensim.models.keyedvectors.Vocab at 0x7f59be9ca8d0>,\n",
              " 'recording': <gensim.models.keyedvectors.Vocab at 0x7f59be9ca908>,\n",
              " 'featuring': <gensim.models.keyedvectors.Vocab at 0x7f59be9ca940>,\n",
              " 'ronnie': <gensim.models.keyedvectors.Vocab at 0x7f59be9ca978>,\n",
              " 'james': <gensim.models.keyedvectors.Vocab at 0x7f59be9ca9b0>,\n",
              " 'dio': <gensim.models.keyedvectors.Vocab at 0x7f59be9ca9e8>,\n",
              " 'vocals': <gensim.models.keyedvectors.Vocab at 0x7f59be9caa20>,\n",
              " 'doing': <gensim.models.keyedvectors.Vocab at 0x7f59be9caa58>,\n",
              " 'ozzy': <gensim.models.keyedvectors.Vocab at 0x7f59be9caa90>,\n",
              " 'material': <gensim.models.keyedvectors.Vocab at 0x7f59be9caac8>,\n",
              " 'top': <gensim.models.keyedvectors.Vocab at 0x7f59be9cab00>,\n",
              " 'form': <gensim.models.keyedvectors.Vocab at 0x7f59be9cab38>,\n",
              " 'entire': <gensim.models.keyedvectors.Vocab at 0x7f59be9cab70>,\n",
              " 'band': <gensim.models.keyedvectors.Vocab at 0x7f59be9caba8>,\n",
              " 'problems': <gensim.models.keyedvectors.Vocab at 0x7f59be9cabe0>,\n",
              " 'lineup': <gensim.models.keyedvectors.Vocab at 0x7f59be9cac18>,\n",
              " 'holy': <gensim.models.keyedvectors.Vocab at 0x7f59be9cac50>,\n",
              " 'diver': <gensim.models.keyedvectors.Vocab at 0x7f59be9cac88>,\n",
              " 'sabbath': <gensim.models.keyedvectors.Vocab at 0x7f59be9cacc0>,\n",
              " 'implosion': <gensim.models.keyedvectors.Vocab at 0x7f59be9cacf8>,\n",
              " 'whack-tastic': <gensim.models.keyedvectors.Vocab at 0x7f59be9cad30>,\n",
              " 'stuck': <gensim.models.keyedvectors.Vocab at 0x7f59be9cad68>,\n",
              " 'helps': <gensim.models.keyedvectors.Vocab at 0x7f59be9cada0>,\n",
              " 'unstuck': <gensim.models.keyedvectors.Vocab at 0x7f59be9cadd8>,\n",
              " 'cards': <gensim.models.keyedvectors.Vocab at 0x7f59be9cae10>,\n",
              " 'force': <gensim.models.keyedvectors.Vocab at 0x7f59be9cae48>,\n",
              " 'train': <gensim.models.keyedvectors.Vocab at 0x7f59be9cae80>,\n",
              " 'press': <gensim.models.keyedvectors.Vocab at 0x7f59be9caeb8>,\n",
              " 'releases': <gensim.models.keyedvectors.Vocab at 0x7f59be9caef0>,\n",
              " 'somewhat': <gensim.models.keyedvectors.Vocab at 0x7f59be9caf28>,\n",
              " 'mundane': <gensim.models.keyedvectors.Vocab at 0x7f59be9caf60>,\n",
              " 'repetitive': <gensim.models.keyedvectors.Vocab at 0x7f59be9caf98>,\n",
              " 'whack': <gensim.models.keyedvectors.Vocab at 0x7f59be9cafd0>,\n",
              " 'pack': <gensim.models.keyedvectors.Vocab at 0x7f59be94d048>,\n",
              " 'inspired': <gensim.models.keyedvectors.Vocab at 0x7f59be94d080>,\n",
              " 'ideas': <gensim.models.keyedvectors.Vocab at 0x7f59be94d0b8>,\n",
              " 'task': <gensim.models.keyedvectors.Vocab at 0x7f59be94d0f0>,\n",
              " 'tedious': <gensim.models.keyedvectors.Vocab at 0x7f59be94d128>,\n",
              " 'political': <gensim.models.keyedvectors.Vocab at 0x7f59be94d160>,\n",
              " 'rage': <gensim.models.keyedvectors.Vocab at 0x7f59be94d198>,\n",
              " 'okay': <gensim.models.keyedvectors.Vocab at 0x7f59be94d1d0>,\n",
              " 'a-f': <gensim.models.keyedvectors.Vocab at 0x7f59be94d208>,\n",
              " 'brings': <gensim.models.keyedvectors.Vocab at 0x7f59be94d240>,\n",
              " 'message': <gensim.models.keyedvectors.Vocab at 0x7f59be94d278>,\n",
              " 'punks': <gensim.models.keyedvectors.Vocab at 0x7f59be94d2b0>,\n",
              " 'willing': <gensim.models.keyedvectors.Vocab at 0x7f59be94d2e8>,\n",
              " 'listen': <gensim.models.keyedvectors.Vocab at 0x7f59be94d320>,\n",
              " \"'die\": <gensim.models.keyedvectors.Vocab at 0x7f59be94d358>,\n",
              " 'government': <gensim.models.keyedvectors.Vocab at 0x7f59be94d390>,\n",
              " 'catchy': <gensim.models.keyedvectors.Vocab at 0x7f59be94d3c8>,\n",
              " 'tunes': <gensim.models.keyedvectors.Vocab at 0x7f59be94d400>,\n",
              " 'wonder': <gensim.models.keyedvectors.Vocab at 0x7f59be94d438>,\n",
              " 'miss': <gensim.models.keyedvectors.Vocab at 0x7f59be94d470>,\n",
              " 'against': <gensim.models.keyedvectors.Vocab at 0x7f59be94d4a8>,\n",
              " 'hopeful': <gensim.models.keyedvectors.Vocab at 0x7f59be94d4e0>,\n",
              " 'leftover': <gensim.models.keyedvectors.Vocab at 0x7f59be94d518>,\n",
              " 'crack': <gensim.models.keyedvectors.Vocab at 0x7f59be94d550>,\n",
              " 'though': <gensim.models.keyedvectors.Vocab at 0x7f59be94d588>,\n",
              " 'covering': <gensim.models.keyedvectors.Vocab at 0x7f59be94d5c0>,\n",
              " 'adult': <gensim.models.keyedvectors.Vocab at 0x7f59be94d5f8>,\n",
              " 'noises': <gensim.models.keyedvectors.Vocab at 0x7f59be94d630>,\n",
              " 'husband': <gensim.models.keyedvectors.Vocab at 0x7f59be94d668>,\n",
              " 'machines': <gensim.models.keyedvectors.Vocab at 0x7f59be94d6a0>,\n",
              " 'bedroom': <gensim.models.keyedvectors.Vocab at 0x7f59be94d6d8>,\n",
              " 'outside': <gensim.models.keyedvectors.Vocab at 0x7f59be94d710>,\n",
              " 'room': <gensim.models.keyedvectors.Vocab at 0x7f59be94d748>,\n",
              " 'works': <gensim.models.keyedvectors.Vocab at 0x7f59be94d780>,\n",
              " ...}"
            ]
          },
          "metadata": {
            "tags": []
          },
          "execution_count": 118
        }
      ]
    },
    {
      "cell_type": "code",
      "metadata": {
        "id": "bXTQC1-dfVBn",
        "outputId": "bbf44131-1cc6-4d2e-95a2-b5edac4e22d8",
        "colab": {
          "base_uri": "https://localhost:8080/",
          "height": 454
        }
      },
      "source": [
        "model.wv[\"hopeful\"]"
      ],
      "execution_count": null,
      "outputs": [
        {
          "output_type": "execute_result",
          "data": {
            "text/plain": [
              "array([-7.26336688e-02, -1.89959735e-01,  1.13285154e-01,  2.27760747e-01,\n",
              "       -4.12630290e-01, -4.38349613e-04, -2.46337019e-02, -4.15330768e-01,\n",
              "       -2.88858384e-01,  2.03475982e-01,  8.64369199e-02,  2.05347374e-01,\n",
              "       -3.62314209e-02,  1.56122059e-01,  3.32149118e-01, -2.32776642e-01,\n",
              "       -9.83110294e-02, -2.29135975e-01,  7.96781853e-02,  3.24289054e-01,\n",
              "        1.15881786e-01,  2.55118459e-01,  1.37984350e-01, -1.53782964e-01,\n",
              "       -2.35036481e-02, -2.05833331e-01,  5.03915608e-01,  2.33158559e-01,\n",
              "        2.07676552e-02,  2.33417541e-01,  1.36494726e-01, -8.86520669e-02,\n",
              "        1.09996283e-02,  2.97828466e-01, -1.14948608e-01,  5.03463931e-02,\n",
              "       -9.77805704e-02, -2.18057543e-01,  1.60088852e-01,  8.90823901e-02,\n",
              "       -7.01189339e-02, -6.62002489e-02,  2.40424514e-01,  1.83951645e-03,\n",
              "       -1.28228188e-01,  1.20012492e-01,  2.47914605e-02, -3.03318143e-01,\n",
              "        1.10787630e-01, -1.41838240e-02, -1.15367875e-01,  8.45850110e-02,\n",
              "        3.87955364e-03,  2.63980687e-01, -6.14631251e-02,  2.77384311e-01,\n",
              "        1.07888706e-01,  3.41142225e-03,  1.64609000e-01, -4.29977655e-01,\n",
              "        3.44043583e-01,  1.47888437e-01, -1.52965516e-01, -3.37452769e-01,\n",
              "       -2.92216748e-01, -2.74496734e-01,  2.64999121e-01, -4.86490913e-02,\n",
              "       -1.45596545e-02, -1.24875404e-01, -1.00644693e-01, -1.22809380e-01,\n",
              "        3.76328975e-02,  2.08386213e-01, -1.28182530e-01, -2.57378649e-02,\n",
              "       -2.34302297e-01,  1.39371470e-01, -8.90871212e-02, -1.11678243e-03,\n",
              "       -7.79003203e-02, -8.41356963e-02,  1.97484076e-01, -7.77461915e-04,\n",
              "       -5.00276387e-02,  7.43419707e-01, -1.67738885e-01, -2.71203458e-01,\n",
              "        4.37964350e-02, -1.31844983e-01, -1.73006076e-02,  9.46697593e-02,\n",
              "       -1.34090990e-01, -4.66890223e-02, -7.62892067e-02,  3.71460989e-02,\n",
              "       -2.04962075e-01,  5.81790656e-02,  4.57452774e-01,  1.29310891e-01],\n",
              "      dtype=float32)"
            ]
          },
          "metadata": {
            "tags": []
          },
          "execution_count": 119
        }
      ]
    },
    {
      "cell_type": "code",
      "metadata": {
        "id": "sL5nbon6f1Z-",
        "outputId": "30e3fad6-cd52-4c25-dec4-c250e0c56d0e",
        "colab": {
          "base_uri": "https://localhost:8080/",
          "height": 185
        }
      },
      "source": [
        "model.wv.most_similar(\"hopeful\")"
      ],
      "execution_count": null,
      "outputs": [
        {
          "output_type": "execute_result",
          "data": {
            "text/plain": [
              "[('ommission', 0.813042938709259),\n",
              " ('reluctant', 0.8104925751686096),\n",
              " ('juiced', 0.8035626411437988),\n",
              " ('celeriac', 0.8022887706756592),\n",
              " ('allergic', 0.7970759868621826),\n",
              " ('troublesome', 0.7958637475967407),\n",
              " ('comp', 0.7956607341766357),\n",
              " ('shelia', 0.7935953736305237),\n",
              " ('scallops', 0.7893199324607849),\n",
              " ('seared', 0.7862469553947449)]"
            ]
          },
          "metadata": {
            "tags": []
          },
          "execution_count": 120
        }
      ]
    },
    {
      "cell_type": "code",
      "metadata": {
        "id": "n9Ty5WXVgBlL",
        "outputId": "5839812d-f19b-41c3-bc6e-8128222d25d0",
        "colab": {
          "base_uri": "https://localhost:8080/",
          "height": 35
        }
      },
      "source": [
        "model.wv.doesnt_match(\"loving\")"
      ],
      "execution_count": null,
      "outputs": [
        {
          "output_type": "execute_result",
          "data": {
            "application/vnd.google.colaboratory.intrinsic+json": {
              "type": "string"
            },
            "text/plain": [
              "'i'"
            ]
          },
          "metadata": {
            "tags": []
          },
          "execution_count": 121
        }
      ]
    },
    {
      "cell_type": "code",
      "metadata": {
        "id": "Gsl2fHNNhv1a"
      },
      "source": [
        "#Creating the input data\n",
        "X = np.zeros((len(corpus),100)) #Initializing the X matrix with zeros\n",
        "for i in range(len(corpus)):\n",
        "    emb = [model.wv[w] for w in corpus[i]] #Create a list of word embeddings of the words in each sentence\n",
        "    X[i] = np.mean(emb, axis=0) #Take the mean of the word embeddings of the words in a sentence because length of the sentences varies and the dimension of the features will increase with the increase in the number of words in the sentence"
      ],
      "execution_count": null,
      "outputs": []
    },
    {
      "cell_type": "code",
      "metadata": {
        "id": "irgIjlnujtXS"
      },
      "source": [
        "le = preprocessing.LabelEncoder()\n",
        "Y = le.fit_transform(sentiment)"
      ],
      "execution_count": null,
      "outputs": []
    },
    {
      "cell_type": "code",
      "metadata": {
        "id": "qpfaiePhjwSz",
        "outputId": "3f9d6ec7-db10-4e01-927d-2678eb2cf418",
        "colab": {
          "base_uri": "https://localhost:8080/",
          "height": 34
        }
      },
      "source": [
        "print(X.shape,Y.shape)"
      ],
      "execution_count": null,
      "outputs": [
        {
          "output_type": "stream",
          "text": [
            "(36000, 100) (36000,)\n"
          ],
          "name": "stdout"
        }
      ]
    },
    {
      "cell_type": "code",
      "metadata": {
        "id": "y5_8LWzVj0a-",
        "outputId": "1f6688fb-3709-4604-fd0d-21ea5377973c",
        "colab": {
          "base_uri": "https://localhost:8080/",
          "height": 50
        }
      },
      "source": [
        "#Splitting the data into train data and test data\n",
        "X_train, X_test, Y_train, Y_test = train_test_split(X,Y, test_size = 0.20, random_state = 42)\n",
        "print(X_train.shape,Y_train.shape)\n",
        "print(X_test.shape,Y_test.shape)"
      ],
      "execution_count": null,
      "outputs": [
        {
          "output_type": "stream",
          "text": [
            "(28800, 100) (28800,)\n",
            "(7200, 100) (7200,)\n"
          ],
          "name": "stdout"
        }
      ]
    },
    {
      "cell_type": "code",
      "metadata": {
        "id": "rupxph2Vj5Kx",
        "outputId": "6ec4a254-e352-43bd-d0e3-48f113951b09",
        "colab": {
          "base_uri": "https://localhost:8080/",
          "height": 84
        }
      },
      "source": [
        "#Printing the size of the train data, train label, test data and test label\n",
        "print(\"Shape train data = \",np.shape(X_train))\n",
        "print(\"Shape of train label = \",np.shape(Y_train))\n",
        "print(\"Shape of test data = \",np.shape(X_test))\n",
        "print(\"Shape of test label = \",np.shape(Y_test))"
      ],
      "execution_count": null,
      "outputs": [
        {
          "output_type": "stream",
          "text": [
            "Shape train data =  (28800, 100)\n",
            "Shape of train label =  (28800,)\n",
            "Shape of test data =  (7200, 100)\n",
            "Shape of test label =  (7200,)\n"
          ],
          "name": "stdout"
        }
      ]
    },
    {
      "cell_type": "code",
      "metadata": {
        "id": "VOaVCLxNkDnp",
        "outputId": "8fad29ff-eacf-4938-e129-4ac2a1585c7c",
        "colab": {
          "base_uri": "https://localhost:8080/",
          "height": 34
        }
      },
      "source": [
        "clf = GaussianNB() #Initializing the classifier\n",
        "clf.fit(X_train, Y_train) #Train the classifier using X_train and y_train"
      ],
      "execution_count": null,
      "outputs": [
        {
          "output_type": "execute_result",
          "data": {
            "text/plain": [
              "GaussianNB(priors=None, var_smoothing=1e-09)"
            ]
          },
          "metadata": {
            "tags": []
          },
          "execution_count": 129
        }
      ]
    },
    {
      "cell_type": "code",
      "metadata": {
        "id": "eDnOTL2VkJiJ"
      },
      "source": [
        "#Predict the class label for the test data using the trained model\n",
        "y_pred = clf.predict(X_test)"
      ],
      "execution_count": null,
      "outputs": []
    },
    {
      "cell_type": "code",
      "metadata": {
        "id": "dYmdyLfs53D3",
        "outputId": "58a0a4fe-95db-4161-fb51-237db745856a",
        "colab": {
          "base_uri": "https://localhost:8080/",
          "height": 34
        }
      },
      "source": [
        "#Computation of the accuracy score\n",
        "accuracy = accuracy_score(Y_test, y_pred)\n",
        "print('Accuracy = ','%.2f'%(accuracy*100))"
      ],
      "execution_count": null,
      "outputs": [
        {
          "output_type": "stream",
          "text": [
            "Accuracy =  69.31\n"
          ],
          "name": "stdout"
        }
      ]
    },
    {
      "cell_type": "markdown",
      "metadata": {
        "id": "OHPvWk7RaBU0"
      },
      "source": [
        "### CNN + LSTM"
      ]
    },
    {
      "cell_type": "code",
      "metadata": {
        "id": "9PRYr2ARjbCZ"
      },
      "source": [
        "max_features = 8192\n",
        "max_len = 128\n",
        "embedding_vecor_length = 64"
      ],
      "execution_count": null,
      "outputs": []
    },
    {
      "cell_type": "code",
      "metadata": {
        "id": "t18ThNcMcR38"
      },
      "source": [
        "tk = keras.preprocessing.text.Tokenizer(num_words=max_len, char_level = False, filters=None, lower=False, split=None)\n",
        "tk.fit_on_texts(X_train.tolist())"
      ],
      "execution_count": null,
      "outputs": []
    },
    {
      "cell_type": "code",
      "metadata": {
        "id": "L_x9Sdircb0g"
      },
      "source": [
        "Xtrain = tk.texts_to_sequences(X_train.tolist())"
      ],
      "execution_count": null,
      "outputs": []
    },
    {
      "cell_type": "code",
      "metadata": {
        "id": "avxa_2tNkOvQ"
      },
      "source": [
        "# Importing keras modules\n",
        "import tensorflow as tf\n",
        "from tensorflow.python.keras import Sequential\n",
        "from tensorflow.python.keras.layers import Dense, Conv1D, MaxPooling1D, Flatten, BatchNormalization, GlobalAveragePooling1D\n",
        "from keras.layers.recurrent import LSTM\n",
        "from keras.layers.embeddings import Embedding\n",
        "\n",
        "\n",
        "input_shape = (max_len,1)\n",
        "model = Sequential()\n",
        "model.add(Embedding(max_features, embedding_vecor_length, input_length=max_len))\n",
        "model.add(Conv1D(filters=32,kernel_size= 7,activation= 'relu', padding='same', input_shape = input_shape))\n",
        "model.add(BatchNormalization())\n",
        "#model.add(Conv1D(filters=32,kernel_size= 3, activation= 'relu', padding='same'))\n",
        "#model.add(BatchNormalization())\n",
        "#model.add(Conv1D(filters=32,kernel_size= 3, activation= 'relu', padding='same'))\n",
        "#model.add(BatchNormalization())\n",
        "#model.add(Conv1D(2,1))\n",
        "#model.add(GlobalAveragePooling1D())\n",
        "model.add(LSTM(50))\n",
        "#model.add(Conv1D(filters=32,kernel_size= 5))\n",
        "model.add(Flatten())\n",
        "model.add(Dense(1, activation='sigmoid'))"
      ],
      "execution_count": null,
      "outputs": []
    },
    {
      "cell_type": "code",
      "metadata": {
        "id": "92aNg9RS-EEm",
        "outputId": "ff842dc6-0c4d-4016-ee85-86f2d3ee2900",
        "colab": {
          "base_uri": "https://localhost:8080/",
          "height": 353
        }
      },
      "source": [
        "model.summary()"
      ],
      "execution_count": null,
      "outputs": [
        {
          "output_type": "stream",
          "text": [
            "Model: \"sequential_6\"\n",
            "_________________________________________________________________\n",
            "Layer (type)                 Output Shape              Param #   \n",
            "=================================================================\n",
            "embedding_6 (Embedding)      (None, 128, 64)           524288    \n",
            "_________________________________________________________________\n",
            "conv1d_24 (Conv1D)           (None, 128, 32)           14368     \n",
            "_________________________________________________________________\n",
            "batch_normalization_18 (Batc (None, 128, 32)           128       \n",
            "_________________________________________________________________\n",
            "lstm (LSTM)                  (None, 50)                16600     \n",
            "_________________________________________________________________\n",
            "flatten_6 (Flatten)          (None, 50)                0         \n",
            "_________________________________________________________________\n",
            "dense_6 (Dense)              (None, 1)                 51        \n",
            "=================================================================\n",
            "Total params: 555,435\n",
            "Trainable params: 555,371\n",
            "Non-trainable params: 64\n",
            "_________________________________________________________________\n"
          ],
          "name": "stdout"
        }
      ]
    },
    {
      "cell_type": "code",
      "metadata": {
        "id": "V3XdokOpkxd6",
        "outputId": "80843ba1-8002-43ef-8e1c-291db56f1a91",
        "colab": {
          "base_uri": "https://localhost:8080/",
          "height": 185
        }
      },
      "source": [
        "# Compiling, Training, Testing\n",
        "import keras\n",
        "from keras.preprocessing import sequence\n",
        "\n",
        "Xtrain = sequence.pad_sequences(Xtrain, maxlen=max_len)\n",
        "opt = tf.keras.optimizers.Adam(lr=0.001, amsgrad=False)\n",
        "model.compile(optimizer = opt, loss = 'binary_crossentropy', metrics = ['accuracy']) #categorical for multiclass\n",
        "history = model.fit(Xtrain,Y_train, epochs = 5, batch_size = 32)\n"
      ],
      "execution_count": null,
      "outputs": [
        {
          "output_type": "stream",
          "text": [
            "Epoch 1/5\n",
            "900/900 [==============================] - 79s 88ms/step - loss: 0.6905 - accuracy: 0.5042\n",
            "Epoch 2/5\n",
            "900/900 [==============================] - 77s 86ms/step - loss: 0.6904 - accuracy: 0.5036\n",
            "Epoch 3/5\n",
            "900/900 [==============================] - 81s 90ms/step - loss: 0.6903 - accuracy: 0.5032\n",
            "Epoch 4/5\n",
            "900/900 [==============================] - 79s 88ms/step - loss: 0.6902 - accuracy: 0.5084\n",
            "Epoch 5/5\n",
            "900/900 [==============================] - 86s 95ms/step - loss: 0.6901 - accuracy: 0.5014\n"
          ],
          "name": "stdout"
        }
      ]
    },
    {
      "cell_type": "code",
      "metadata": {
        "id": "IvSzozYblEs3",
        "outputId": "286cac1f-eaeb-4f66-8777-c3ed6aed774a",
        "colab": {
          "base_uri": "https://localhost:8080/",
          "height": 67
        }
      },
      "source": [
        "tk = keras.preprocessing.text.Tokenizer(num_words=max_len, char_level = False, filters=None, lower=False, split=None)\n",
        "tk.fit_on_texts(X_test.tolist())\n",
        "Xtest = tk.texts_to_sequences(X_test.tolist())\n",
        "Xtest = sequence.pad_sequences(Xtest, maxlen=max_len)\n",
        "\n",
        "loss, accuracy = model.evaluate(Xtest,Y_test)\n",
        "print(\"\\nLoss: %.2f, Accuracy: %.2f%%\" % (loss, accuracy*100))"
      ],
      "execution_count": null,
      "outputs": [
        {
          "output_type": "stream",
          "text": [
            "225/225 [==============================] - 5s 20ms/step - loss: 0.7047 - accuracy: 0.5028\n",
            "\n",
            "Loss: 0.70, Accuracy: 50.28%\n"
          ],
          "name": "stdout"
        }
      ]
    }
  ]
}